{
 "cells": [
  {
   "cell_type": "markdown",
   "metadata": {},
   "source": [
    "# Extended Kalman Filter for Constant Turn Rate and Velocity (CTRV) Vehicle Model"
   ]
  },
  {
   "cell_type": "code",
   "execution_count": null,
   "metadata": {
    "jupyter": {
     "outputs_hidden": false
    }
   },
   "outputs": [],
   "source": [
    "import numpy as np\n",
    "import time\n",
    "import matplotlib.dates as mdates\n",
    "import matplotlib.pyplot as plt\n",
    "from scipy.stats import norm\n",
    "from sympy import Symbol, symbols, Matrix, sin, cos\n",
    "\n",
    "%matplotlib inline\n",
    "fw = 10  # figure width"
   ]
  },
  {
   "cell_type": "markdown",
   "metadata": {},
   "source": [
    "![Extended Kalman Filter Step](../resources/Extended-Kalman-Filter-Step.png)"
   ]
  },
  {
   "cell_type": "markdown",
   "metadata": {},
   "source": [
    "\n",
    "\n",
    "Where $w_k$ and $v_k$ are the process and observation noises which are both assumed to be zero mean Multivariate Gaussian noises with covariance matrix $Q$ and $R$ respectively.\n",
    "\n",
    "The function $g$ can be used to compute the predicted state from the previous estimate and similarly the function $h$ can be used to compute the predicted measurement from the predicted state. However, $g$ and $h$ cannot be applied to the covariance directly. Instead a matrix of partial derivatives (the Jacobian matrix) is computed.\n",
    "\n",
    "At each time step, the Jacobian is evaluated with current predicted states. These matrices can be used in the Kalman filter equations. This process essentially linearizes the non-linear function around the current estimate."
   ]
  },
  {
   "cell_type": "markdown",
   "metadata": {},
   "source": [
    "### Sensor setup:\n",
    "- velocity sensor: $v$ in $\\psi$\n",
    "- yaw rate sensor: $\\dot \\psi$\n",
    "- GPS: $x$ & $y$"
   ]
  },
  {
   "cell_type": "markdown",
   "metadata": {},
   "source": [
    "## State Vector - Constant Turn Rate and Velocity Vehicle Model (CTRV)"
   ]
  },
  {
   "cell_type": "markdown",
   "metadata": {},
   "source": [
    "Constant Turn Rate, Constant Velocity Model for a vehicle ![CTRV Model](../resources/CTRV-Model.png)\n",
    "\n",
    "$$x_k= \\left[ \\matrix{ x \\\\ y \\\\ \\psi \\\\ v \\\\ \\dot\\psi} \\right] = \\left[ \\matrix{ \\text{Position X} \\\\ \\text{Position Y} \\\\ \\text{Heading} \\\\ \\text{Velocity} \\\\ \\text{Yaw Rate}} \\right]$$"
   ]
  },
  {
   "cell_type": "code",
   "execution_count": null,
   "metadata": {
    "jupyter": {
     "outputs_hidden": false
    }
   },
   "outputs": [],
   "source": [
    "numstates = 5  # States"
   ]
  },
  {
   "cell_type": "markdown",
   "metadata": {},
   "source": [
    "The IMU acquires data with 50Hz, the GPS sensor just with 10Hz, so we only have a position correction every 5th Kalman filter cycle."
   ]
  },
  {
   "cell_type": "code",
   "execution_count": null,
   "metadata": {
    "jupyter": {
     "outputs_hidden": false
    }
   },
   "outputs": [],
   "source": [
    "dt = 1.0 / 50.0  # Sample Rate of the Measurements is 50Hz\n",
    "dtGPS = 1.0 / 10.0  # Sample Rate of GPS is 10Hz"
   ]
  },
  {
   "cell_type": "code",
   "execution_count": null,
   "metadata": {
    "jupyter": {
     "outputs_hidden": false
    }
   },
   "outputs": [],
   "source": [
    "vs, psis, dpsis, dts, xs, ys, lats, lons = symbols(\"v \\psi \\dot\\psi T x y lat lon\")\n",
    "\n",
    "gs = Matrix(\n",
    "    [\n",
    "        [xs + (vs / dpsis) * (sin(psis + dpsis * dts) - sin(psis))],\n",
    "        [ys + (vs / dpsis) * (-cos(psis + dpsis * dts) + cos(psis))],\n",
    "        [psis + dpsis * dts],\n",
    "        [vs],\n",
    "        [dpsis],\n",
    "    ]\n",
    ")\n",
    "state = Matrix([xs, ys, psis, vs, dpsis])\n",
    "state"
   ]
  },
  {
   "cell_type": "markdown",
   "metadata": {},
   "source": [
    "## Dynamic Matrix"
   ]
  },
  {
   "cell_type": "markdown",
   "metadata": {},
   "source": [
    "### This formulas calculate how the state is evolving from one to the next time step"
   ]
  },
  {
   "cell_type": "code",
   "execution_count": null,
   "metadata": {
    "jupyter": {
     "outputs_hidden": false
    }
   },
   "outputs": [],
   "source": [
    "gs"
   ]
  },
  {
   "cell_type": "markdown",
   "metadata": {},
   "source": [
    "### No linear model!\n",
    "To linearize the model, linearization is needed.\n",
    "Since we have a more-dimensional state, we need the Jacobian.\n",
    "The Jacobian is the matrix of all first-order partial derivatives."
   ]
  },
  {
   "cell_type": "markdown",
   "metadata": {},
   "source": [
    "### Calculate the Jacobian of the Dynamic Matrix with respect to the state vector to linearize the state transition"
   ]
  },
  {
   "cell_type": "markdown",
   "metadata": {},
   "source": [
    "![Jacobian](../resources/Jacobian.png)"
   ]
  },
  {
   "cell_type": "code",
   "execution_count": null,
   "metadata": {
    "jupyter": {
     "outputs_hidden": false
    }
   },
   "outputs": [],
   "source": [
    "gs.jacobian(state)"
   ]
  },
  {
   "cell_type": "markdown",
   "metadata": {},
   "source": [
    "## Initial Uncertainty $P_0$"
   ]
  },
  {
   "cell_type": "code",
   "execution_count": null,
   "metadata": {
    "jupyter": {
     "outputs_hidden": false
    }
   },
   "outputs": [],
   "source": [
    "P = np.diag([1000.0, 1000.0, 1000.0, 1000.0, 1000.0])\n",
    "print(P, \"\\n\")\n",
    "\n",
    "fig = plt.figure(figsize=(7, 7))\n",
    "im = plt.imshow(P, interpolation=\"none\", cmap=plt.get_cmap(\"binary\"))\n",
    "plt.title(\"Initial Covariance Matrix $P$ \\n\")\n",
    "ylocs, ylabels = plt.yticks()\n",
    "\n",
    "# set the locations of the yticks\n",
    "plt.yticks(np.arange(6))\n",
    "# set the locations and labels of the yticks\n",
    "plt.yticks(np.arange(5), (\"$x$\", \"$y$\", \"$\\psi$\", \"$v$\", \"$\\dot \\psi$\"), fontsize=22)\n",
    "\n",
    "xlocs, xlabels = plt.xticks()\n",
    "plt.rcParams[\"axes.grid\"] = False\n",
    "\n",
    "# set the locations of the yticks\n",
    "plt.xticks(np.arange(6))\n",
    "# set the locations and labels of the yticks\n",
    "plt.xticks(np.arange(5), (\"$x$\", \"$y$\", \"$\\psi$\", \"$v$\", \"$\\dot \\psi$\"), fontsize=22)\n",
    "\n",
    "plt.xlim([-0.5, 4.5])\n",
    "plt.ylim([4.5, -0.5])\n",
    "\n",
    "from mpl_toolkits.axes_grid1 import make_axes_locatable\n",
    "\n",
    "divider = make_axes_locatable(plt.gca())\n",
    "cax = divider.append_axes(\"right\", \"5%\", pad=\"3%\")\n",
    "plt.colorbar(im, cax=cax)\n",
    "\n",
    "\n",
    "plt.tight_layout()"
   ]
  },
  {
   "cell_type": "markdown",
   "metadata": {},
   "source": [
    "## Process Noise Covariance Matrix Q\n",
    "\n",
    "### Process covariances are determined by estimating the maximum possible change of a state during one cycle."
   ]
  },
  {
   "cell_type": "code",
   "execution_count": null,
   "metadata": {
    "jupyter": {
     "outputs_hidden": false
    }
   },
   "outputs": [],
   "source": [
    "sGPS = 0.5 * 7.0 * dt ** 2  # assume 7m/s2 as maximum acceleration\n",
    "sCourse = 0.1 * dt  # assume 0.1rad/s as maximum turn rate\n",
    "sVelocity = 7.0 * dt  # assume 7.0m/s2 as maximum acceleration\n",
    "sYaw = 1.0 * dt  # assume 1.0rad/s2 as the maximum turn rate acceleration\n",
    "\n",
    "Q = np.diag([sGPS ** 2, sGPS ** 2, sCourse ** 2, sVelocity ** 2, sYaw ** 2])\n",
    "print(Q)"
   ]
  },
  {
   "cell_type": "code",
   "execution_count": null,
   "metadata": {
    "jupyter": {
     "outputs_hidden": false
    }
   },
   "outputs": [],
   "source": [
    "fig = plt.figure(figsize=(5, 5))\n",
    "im = plt.imshow(Q, interpolation=\"none\", cmap=plt.get_cmap(\"binary\"))\n",
    "plt.title(\"Process Noise Covariance Matrix $Q$ \\n\")\n",
    "ylocs, ylabels = plt.yticks()\n",
    "# set the locations of the yticks\n",
    "plt.yticks(np.arange(8))\n",
    "# set the locations and labels of the yticks\n",
    "plt.yticks(np.arange(5), (\"$x$\", \"$y$\", \"$\\psi$\", \"$v$\", \"$\\dot \\psi$\"), fontsize=22)\n",
    "\n",
    "xlocs, xlabels = plt.xticks()\n",
    "# set the locations of the yticks\n",
    "plt.xticks(np.arange(8))\n",
    "# set the locations and labels of the yticks\n",
    "plt.xticks(np.arange(5), (\"$x$\", \"$y$\", \"$\\psi$\", \"$v$\", \"$\\dot \\psi$\"), fontsize=22)\n",
    "\n",
    "plt.xlim([-0.5, 4.5])\n",
    "plt.ylim([4.5, -0.5])\n",
    "\n",
    "from mpl_toolkits.axes_grid1 import make_axes_locatable\n",
    "\n",
    "divider = make_axes_locatable(plt.gca())\n",
    "cax = divider.append_axes(\"right\", \"5%\", pad=\"3%\")\n",
    "plt.colorbar(im, cax=cax)"
   ]
  },
  {
   "cell_type": "markdown",
   "metadata": {},
   "source": [
    "### $x$, $y$, and $\\psi$ variances are so small they can hardly be seen here."
   ]
  },
  {
   "cell_type": "markdown",
   "metadata": {},
   "source": [
    "## Real Measurements"
   ]
  },
  {
   "cell_type": "code",
   "execution_count": null,
   "metadata": {
    "jupyter": {
     "outputs_hidden": false
    }
   },
   "outputs": [],
   "source": [
    "datafile = \"../data/2014-03-26-000-Data.csv\"\n",
    "\n",
    "(\n",
    "    date,\n",
    "    time,\n",
    "    millis,\n",
    "    ax,\n",
    "    ay,\n",
    "    az,\n",
    "    rollrate,\n",
    "    pitchrate,\n",
    "    yawrate,\n",
    "    roll,\n",
    "    pitch,\n",
    "    yaw,\n",
    "    speed,\n",
    "    course,\n",
    "    latitude,\n",
    "    longitude,\n",
    "    altitude,\n",
    "    pdop,\n",
    "    hdop,\n",
    "    vdop,\n",
    "    epe,\n",
    "    fix,\n",
    "    satellites_view,\n",
    "    satellites_used,\n",
    "    temp,\n",
    ") = np.loadtxt(datafile, delimiter=\",\", unpack=True, skiprows=1)\n",
    "\n",
    "print(\"Read '%s' successfully.\" % datafile)\n",
    "\n",
    "# A course of 0° means the Car is traveling north bound\n",
    "# and 90° means it is traveling east bound.\n",
    "# In the Calculation following, East is Zero and North is 90°\n",
    "# We need an offset.\n",
    "course = -course + 90.0"
   ]
  },
  {
   "cell_type": "markdown",
   "metadata": {},
   "source": [
    "## Measurement Function H"
   ]
  },
  {
   "cell_type": "markdown",
   "metadata": {},
   "source": [
    "Matrix $J_H$ is the Jacobian of the Measurement function $h$ with respect to the state. Function $h$ can be used to compute the predicted measurement from the predicted state.\n",
    "\n",
    "If a GPS measurement is available, the following function maps the state to the measurement."
   ]
  },
  {
   "cell_type": "code",
   "execution_count": null,
   "metadata": {
    "jupyter": {
     "outputs_hidden": false
    }
   },
   "outputs": [],
   "source": [
    "hs = Matrix([[xs], [ys], [vs], [dpsis]])\n",
    "hs"
   ]
  },
  {
   "cell_type": "code",
   "execution_count": null,
   "metadata": {
    "jupyter": {
     "outputs_hidden": false
    }
   },
   "outputs": [],
   "source": [
    "JHs = hs.jacobian(state)"
   ]
  },
  {
   "cell_type": "markdown",
   "metadata": {},
   "source": [
    "If no GPS measurement is available, simply set the corresponding values in $J_h$ to zero."
   ]
  },
  {
   "cell_type": "markdown",
   "metadata": {},
   "source": [
    "## Measurement Noise Covariance $R$"
   ]
  },
  {
   "cell_type": "code",
   "execution_count": null,
   "metadata": {
    "jupyter": {
     "outputs_hidden": false
    }
   },
   "outputs": [],
   "source": [
    "sGPS = 5.0  # Standard Deviation of GPS Measurement\n",
    "sspeed = 2.0  # Standard Deviation of the speed measurement\n",
    "syaw = 0.01  # Standard Deviation of the yawrate measurement\n",
    "R = np.matrix(\n",
    "    [\n",
    "        [sGPS ** 2, 0.0, 0.0, 0.0],\n",
    "        [0.0, sGPS ** 2, 0.0, 0.0],\n",
    "        [0.0, 0.0, sspeed ** 2, 0.0],\n",
    "        [0.0, 0.0, 0.0, syaw ** 2],\n",
    "    ]\n",
    ")\n",
    "\n",
    "print(R)"
   ]
  },
  {
   "cell_type": "code",
   "execution_count": null,
   "metadata": {
    "jupyter": {
     "outputs_hidden": false
    }
   },
   "outputs": [],
   "source": [
    "fig = plt.figure(figsize=(4.5, 4.5))\n",
    "im = plt.imshow(R, interpolation=\"none\", cmap=plt.get_cmap(\"binary\"))\n",
    "plt.title(\"Measurement Noise Covariance Matrix $R$ \\n\")\n",
    "ylocs, ylabels = plt.yticks()\n",
    "# set the locations of the yticks\n",
    "plt.yticks(np.arange(5))\n",
    "# set the locations and labels of the yticks\n",
    "plt.yticks(np.arange(4), (\"$x$\", \"$y$\", \"$v$\", \"$\\dot \\psi$\"), fontsize=22)\n",
    "\n",
    "xlocs, xlabels = plt.xticks()\n",
    "# set the locations of the yticks\n",
    "plt.xticks(np.arange(5))\n",
    "# set the locations and labels of the yticks\n",
    "plt.xticks(np.arange(4), (\"$x$\", \"$y$\", \"$v$\", \"$\\dot \\psi$\"), fontsize=22)\n",
    "\n",
    "plt.xlim([-0.5, 3.5])\n",
    "plt.ylim([3.5, -0.5])\n",
    "\n",
    "from mpl_toolkits.axes_grid1 import make_axes_locatable\n",
    "\n",
    "divider = make_axes_locatable(plt.gca())\n",
    "cax = divider.append_axes(\"right\", \"5%\", pad=\"3%\")\n",
    "plt.colorbar(im, cax=cax)"
   ]
  },
  {
   "cell_type": "markdown",
   "metadata": {},
   "source": [
    "## Identity Matrix"
   ]
  },
  {
   "cell_type": "code",
   "execution_count": null,
   "metadata": {
    "jupyter": {
     "outputs_hidden": false
    }
   },
   "outputs": [],
   "source": [
    "I = np.eye(numstates)"
   ]
  },
  {
   "cell_type": "markdown",
   "metadata": {},
   "source": [
    "## Approx. Lat/Lon to Meters to check Location"
   ]
  },
  {
   "cell_type": "code",
   "execution_count": null,
   "metadata": {
    "jupyter": {
     "outputs_hidden": false
    }
   },
   "outputs": [],
   "source": [
    "RadiusEarth = 6378388.0  # m\n",
    "arc = 2.0 * np.pi * (RadiusEarth + altitude) / 360.0  # m/°\n",
    "\n",
    "dx = (\n",
    "    arc * np.cos(latitude * np.pi / 180.0) * np.hstack((0.0, np.diff(longitude)))\n",
    ")  # in m\n",
    "dy = arc * np.hstack((0.0, np.diff(latitude)))  # in m\n",
    "\n",
    "mx = np.cumsum(dx)\n",
    "my = np.cumsum(dy)\n",
    "\n",
    "ds = np.sqrt(dx ** 2 + dy ** 2)\n",
    "\n",
    "GPS = np.hstack(\n",
    "    (True, (np.diff(ds) > 0.0).astype(\"bool\"))\n",
    ")  # GPS Trigger for Kalman Filter"
   ]
  },
  {
   "cell_type": "markdown",
   "metadata": {},
   "source": [
    "## Initial State"
   ]
  },
  {
   "cell_type": "code",
   "execution_count": null,
   "metadata": {
    "jupyter": {
     "outputs_hidden": false
    }
   },
   "outputs": [],
   "source": [
    "x = np.matrix(\n",
    "    [\n",
    "        [\n",
    "            mx[0],\n",
    "            my[0],\n",
    "            course[0] / 180.0 * np.pi,\n",
    "            speed[0] / 3.6 + 0.001,\n",
    "            yawrate[0] / 180.0 * np.pi,\n",
    "        ]\n",
    "    ]\n",
    ").T\n",
    "\n",
    "U = float(np.cos(x[2]) * x[3])\n",
    "V = float(np.sin(x[2]) * x[3])\n",
    "\n",
    "plt.quiver(x[0], x[1], U, V)\n",
    "plt.scatter(float(x[0]), float(x[1]), s=100)\n",
    "plt.title(\"Initial Location\")\n",
    "plt.axis(\"equal\")"
   ]
  },
  {
   "cell_type": "markdown",
   "metadata": {},
   "source": [
    "### Measurement vector"
   ]
  },
  {
   "cell_type": "code",
   "execution_count": null,
   "metadata": {
    "jupyter": {
     "outputs_hidden": false
    }
   },
   "outputs": [],
   "source": [
    "measurements = np.vstack((mx, my, speed / 3.6, yawrate / 180.0 * np.pi))\n",
    "# Lenth of the measurement\n",
    "m = measurements.shape[1]"
   ]
  },
  {
   "cell_type": "code",
   "execution_count": null,
   "metadata": {
    "jupyter": {
     "outputs_hidden": false
    }
   },
   "outputs": [],
   "source": [
    "# Preallocation for Plotting\n",
    "x0 = []\n",
    "x1 = []\n",
    "x2 = []\n",
    "x3 = []\n",
    "x4 = []\n",
    "x5 = []\n",
    "Zx = []\n",
    "Zy = []\n",
    "Px = []\n",
    "Py = []\n",
    "Pdx = []\n",
    "Pdy = []\n",
    "Pddx = []\n",
    "Pddy = []\n",
    "Kx = []\n",
    "Ky = []\n",
    "Kdx = []\n",
    "Kdy = []\n",
    "Kddx = []\n",
    "dstate = []"
   ]
  },
  {
   "cell_type": "markdown",
   "metadata": {},
   "source": [
    "# Extended Kalman Filter"
   ]
  },
  {
   "cell_type": "markdown",
   "metadata": {},
   "source": [
    "![Extended Kalman Filter Step](../resources/Extended-Kalman-Filter-Step.png)"
   ]
  },
  {
   "cell_type": "markdown",
   "metadata": {},
   "source": [
    "$$x_k= \\begin{bmatrix} x \\\\ y \\\\ \\psi \\\\ v \\\\ \\dot\\psi \\end{bmatrix} = \\begin{bmatrix} \\text{Position X} \\\\ \\text{Position Y} \\\\ \\text{Heading} \\\\ \\text{Velocity} \\\\ \\text{Yaw Rate} \\end{bmatrix} =  \\begin{bmatrix}x[0] \\\\ x[1] \\\\ x[2] \\\\ x[3] \\\\ x[4]  \\end{bmatrix}$$"
   ]
  },
  {
   "cell_type": "code",
   "execution_count": null,
   "metadata": {
    "jupyter": {
     "outputs_hidden": false
    }
   },
   "outputs": [],
   "source": [
    "for filterstep in range(m):\n",
    "\n",
    "    # Time Update (Prediction)\n",
    "    # ========================\n",
    "    # Project the state ahead\n",
    "    # see \"Dynamic Matrix\"\n",
    "    if np.abs(yawrate[filterstep]) < 0.0001:  # Driving straight\n",
    "        x[0] = x[0] + x[3] * dt * np.cos(x[2])\n",
    "        x[1] = x[1] + x[3] * dt * np.sin(x[2])\n",
    "        x[2] = x[2]\n",
    "        x[3] = x[3]\n",
    "        x[4] = 0.0000001  # avoid numerical issues in Jacobians\n",
    "        dstate.append(0)\n",
    "    else:  # otherwise\n",
    "        x[0] = x[0] + (x[3] / x[4]) * (np.sin(x[4] * dt + x[2]) - np.sin(x[2]))\n",
    "        x[1] = x[1] + (x[3] / x[4]) * (-np.cos(x[4] * dt + x[2]) + np.cos(x[2]))\n",
    "        x[2] = (x[2] + x[4] * dt + np.pi) % (2.0 * np.pi) - np.pi\n",
    "        x[3] = x[3]\n",
    "        x[4] = x[4]\n",
    "        dstate.append(1)\n",
    "\n",
    "    # Calculate the Jacobian of the Dynamic Matrix A\n",
    "    # see \"Calculate the Jacobian of the Dynamic Matrix with respect to the state vector\"\n",
    "    a13 = float((x[3] / x[4]) * (np.cos(x[4] * dt + x[2]) - np.cos(x[2])))\n",
    "    a14 = float((1.0 / x[4]) * (np.sin(x[4] * dt + x[2]) - np.sin(x[2])))\n",
    "    a15 = float(\n",
    "        (dt * x[3] / x[4]) * np.cos(x[4] * dt + x[2])\n",
    "        - (x[3] / x[4] ** 2) * (np.sin(x[4] * dt + x[2]) - np.sin(x[2]))\n",
    "    )\n",
    "    a23 = float((x[3] / x[4]) * (np.sin(x[4] * dt + x[2]) - np.sin(x[2])))\n",
    "    a24 = float((1.0 / x[4]) * (-np.cos(x[4] * dt + x[2]) + np.cos(x[2])))\n",
    "    a25 = float(\n",
    "        (dt * x[3] / x[4]) * np.sin(x[4] * dt + x[2])\n",
    "        - (x[3] / x[4] ** 2) * (-np.cos(x[4] * dt + x[2]) + np.cos(x[2]))\n",
    "    )\n",
    "    JA = np.matrix(\n",
    "        [\n",
    "            [1.0, 0.0, a13, a14, a15],\n",
    "            [0.0, 1.0, a23, a24, a25],\n",
    "            [0.0, 0.0, 1.0, 0.0, dt],\n",
    "            [0.0, 0.0, 0.0, 1.0, 0.0],\n",
    "            [0.0, 0.0, 0.0, 0.0, 1.0],\n",
    "        ]\n",
    "    )\n",
    "\n",
    "    # Project the error covariance ahead\n",
    "    P = JA * P * JA.T + Q\n",
    "\n",
    "    # Measurement Update (Correction)\n",
    "    # ===============================\n",
    "    # Measurement Function\n",
    "    hx = np.matrix([[float(x[0])], [float(x[1])], [float(x[3])], [float(x[4])]])\n",
    "\n",
    "    if GPS[filterstep]:\n",
    "        JH = np.matrix(\n",
    "            [\n",
    "                [1.0, 0.0, 0.0, 0.0, 0.0],\n",
    "                [0.0, 1.0, 0.0, 0.0, 0.0],\n",
    "                [0.0, 0.0, 0.0, 1.0, 0.0],\n",
    "                [0.0, 0.0, 0.0, 0.0, 1.0],\n",
    "            ]\n",
    "        )\n",
    "    else:\n",
    "        JH = np.matrix(\n",
    "            [\n",
    "                [0.0, 0.0, 0.0, 0.0, 0.0],\n",
    "                [0.0, 0.0, 0.0, 0.0, 0.0],\n",
    "                [0.0, 0.0, 0.0, 1.0, 0.0],\n",
    "                [0.0, 0.0, 0.0, 0.0, 1.0],\n",
    "            ]\n",
    "        )\n",
    "\n",
    "    S = JH * P * JH.T + R\n",
    "    K = (P * JH.T) * np.linalg.inv(S)\n",
    "\n",
    "    # Update the estimate via\n",
    "    Z = measurements[:, filterstep].reshape(JH.shape[0], 1)\n",
    "    y = Z - (hx)  # Innovation or Residual\n",
    "    x = x + (K * y)\n",
    "\n",
    "    # Update the error covariance\n",
    "    P = (I - (K * JH)) * P\n",
    "\n",
    "    # Save states for Plotting\n",
    "    x0.append(float(x[0]))\n",
    "    x1.append(float(x[1]))\n",
    "    x2.append(float(x[2]))\n",
    "    x3.append(float(x[3]))\n",
    "    x4.append(float(x[4]))\n",
    "    Zx.append(float(Z[0]))\n",
    "    Zy.append(float(Z[1]))\n",
    "    Px.append(float(P[0, 0]))\n",
    "    Py.append(float(P[1, 1]))\n",
    "    Pdx.append(float(P[2, 2]))\n",
    "    Pdy.append(float(P[3, 3]))\n",
    "    Pddx.append(float(P[4, 4]))\n",
    "    Kx.append(float(K[0, 0]))\n",
    "    Ky.append(float(K[1, 0]))\n",
    "    Kdx.append(float(K[2, 0]))\n",
    "    Kdy.append(float(K[3, 0]))\n",
    "    Kddx.append(float(K[4, 0]))"
   ]
  },
  {
   "cell_type": "markdown",
   "metadata": {},
   "source": [
    "## Plots"
   ]
  },
  {
   "cell_type": "markdown",
   "metadata": {},
   "source": [
    "### Uncertainties"
   ]
  },
  {
   "cell_type": "code",
   "execution_count": null,
   "metadata": {
    "jupyter": {
     "outputs_hidden": false
    }
   },
   "outputs": [],
   "source": [
    "fig = plt.figure(figsize=(fw, 9))\n",
    "plt.semilogy(range(m), Px, label=\"$x$\")\n",
    "plt.step(range(m), Py, label=\"$y$\")\n",
    "plt.step(range(m), Pdx, label=\"$\\psi$\")\n",
    "plt.step(range(m), Pdy, label=\"$v$\")\n",
    "plt.step(range(m), Pddx, label=\"$\\dot \\psi$\")\n",
    "\n",
    "plt.xlabel(\"Filter Step\")\n",
    "plt.ylabel(\"\")\n",
    "plt.title(\"Uncertainty (Elements from Matrix $P$)\")\n",
    "plt.legend(loc=\"best\", prop={\"size\": 22})"
   ]
  },
  {
   "cell_type": "code",
   "execution_count": null,
   "metadata": {
    "jupyter": {
     "outputs_hidden": false
    }
   },
   "outputs": [],
   "source": [
    "fig = plt.figure(figsize=(6, 6))\n",
    "im = plt.imshow(P, interpolation=\"none\", cmap=plt.get_cmap(\"binary\"))\n",
    "plt.title(\"Covariance Matrix $P$ (after %i Filter Steps)\" % (m))\n",
    "ylocs, ylabels = plt.yticks()\n",
    "# set the locations of the yticks\n",
    "plt.yticks(np.arange(6))\n",
    "# set the locations and labels of the yticks\n",
    "plt.yticks(np.arange(5), (\"$x$\", \"$y$\", \"$\\psi$\", \"$v$\", \"$\\dot \\psi$\"), fontsize=22)\n",
    "\n",
    "xlocs, xlabels = plt.xticks()\n",
    "# set the locations of the yticks\n",
    "plt.xticks(np.arange(6))\n",
    "# set the locations and labels of the yticks\n",
    "plt.xticks(np.arange(5), (\"$x$\", \"$y$\", \"$\\psi$\", \"$v$\", \"$\\dot \\psi$\"), fontsize=22)\n",
    "\n",
    "plt.xlim([-0.5, 4.5])\n",
    "plt.ylim([4.5, -0.5])\n",
    "\n",
    "from mpl_toolkits.axes_grid1 import make_axes_locatable\n",
    "\n",
    "divider = make_axes_locatable(plt.gca())\n",
    "cax = divider.append_axes(\"right\", \"5%\", pad=\"3%\")\n",
    "plt.colorbar(im, cax=cax)\n",
    "\n",
    "\n",
    "plt.tight_layout()"
   ]
  },
  {
   "cell_type": "markdown",
   "metadata": {},
   "source": [
    "### Kalman Gains"
   ]
  },
  {
   "cell_type": "code",
   "execution_count": null,
   "metadata": {
    "jupyter": {
     "outputs_hidden": false
    }
   },
   "outputs": [],
   "source": [
    "fig = plt.figure(figsize=(fw, 9))\n",
    "plt.step(range(len(measurements[0])), Kx, label=\"$x$\")\n",
    "plt.step(range(len(measurements[0])), Ky, label=\"$y$\")\n",
    "plt.step(range(len(measurements[0])), Kdx, label=\"$\\psi$\")\n",
    "plt.step(range(len(measurements[0])), Kdy, label=\"$v$\")\n",
    "plt.step(range(len(measurements[0])), Kddx, label=\"$\\dot \\psi$\")\n",
    "\n",
    "\n",
    "plt.xlabel(\"Filter Step\")\n",
    "plt.ylabel(\"\")\n",
    "plt.title(\"Kalman Gain (the lower, the more the measurement fullfill the prediction)\")\n",
    "plt.legend(prop={\"size\": 18})\n",
    "plt.ylim([-0.1, 0.1])"
   ]
  },
  {
   "cell_type": "markdown",
   "metadata": {},
   "source": [
    "## State Vector"
   ]
  },
  {
   "cell_type": "code",
   "execution_count": null,
   "metadata": {
    "jupyter": {
     "outputs_hidden": false
    }
   },
   "outputs": [],
   "source": [
    "fig = plt.figure(figsize=(fw, 16))\n",
    "\n",
    "plt.subplot(411)\n",
    "plt.step(range(len(measurements[0])), x0 - mx[0], label=\"$x$\")\n",
    "plt.step(range(len(measurements[0])), x1 - my[0], label=\"$y$\")\n",
    "\n",
    "plt.title(\"Extended Kalman Filter State Estimates (State Vector $x$)\")\n",
    "plt.legend(loc=\"best\", prop={\"size\": 22})\n",
    "plt.ylabel(\"Position (relative to start) [m]\")\n",
    "\n",
    "plt.subplot(412)\n",
    "plt.step(range(len(measurements[0])), x2, label=\"$\\psi$\")\n",
    "plt.step(\n",
    "    range(len(measurements[0])),\n",
    "    (course / 180.0 * np.pi + np.pi) % (2.0 * np.pi) - np.pi,\n",
    "    label=\"$\\psi$ (from GPS as reference)\",\n",
    ")\n",
    "plt.ylabel(\"Course\")\n",
    "plt.legend(loc=\"best\", prop={\"size\": 16})\n",
    "\n",
    "plt.subplot(413)\n",
    "plt.step(range(len(measurements[0])), x3, label=\"$v$\")\n",
    "plt.step(range(len(measurements[0])), speed / 3.6, label=\"$v$ (from GPS as reference)\")\n",
    "plt.ylabel(\"Velocity\")\n",
    "plt.ylim([0, 30])\n",
    "plt.legend(loc=\"best\", prop={\"size\": 16})\n",
    "\n",
    "plt.subplot(414)\n",
    "plt.step(range(len(measurements[0])), x4, label=\"$\\dot \\psi$\")\n",
    "plt.step(\n",
    "    range(len(measurements[0])),\n",
    "    yawrate / 180.0 * np.pi,\n",
    "    label=\"$\\dot \\psi$ (from IMU as reference)\",\n",
    ")\n",
    "plt.ylabel(\"Yaw Rate\")\n",
    "plt.ylim([-0.6, 0.6])\n",
    "plt.legend(loc=\"best\", prop={\"size\": 16})\n",
    "plt.xlabel(\"Filter Step\")"
   ]
  },
  {
   "cell_type": "markdown",
   "metadata": {},
   "source": [
    "## Position x/y"
   ]
  },
  {
   "cell_type": "code",
   "execution_count": null,
   "metadata": {
    "jupyter": {
     "outputs_hidden": false
    }
   },
   "outputs": [],
   "source": [
    "fig = plt.figure(figsize=(16, 9))\n",
    "\n",
    "# EKF State\n",
    "plt.plot(x0, x1, label=\"EKF Position\")\n",
    "\n",
    "# Measurements\n",
    "plt.scatter(mx[::5], my[::5], s=50, label=\"GPS Measurements\")\n",
    "\n",
    "# Start/Goal\n",
    "plt.scatter(x0[0], x1[0], s=60, label=\"Start\", c=\"g\")\n",
    "plt.scatter(x0[-1], x1[-1], s=60, label=\"Goal\", c=\"r\")\n",
    "\n",
    "plt.xlabel(\"X [m]\")\n",
    "plt.ylabel(\"Y [m]\")\n",
    "plt.title(\"Position\")\n",
    "plt.legend(loc=\"best\")\n",
    "plt.axis(\"equal\")"
   ]
  },
  {
   "cell_type": "markdown",
   "metadata": {},
   "source": [
    "### Detailed View"
   ]
  },
  {
   "cell_type": "code",
   "execution_count": null,
   "metadata": {
    "jupyter": {
     "outputs_hidden": false
    }
   },
   "outputs": [],
   "source": [
    "fig = plt.figure(figsize=(9, 4))\n",
    "\n",
    "# EKF State\n",
    "plt.quiver(x0,x1,np.cos(x2), np.sin(x2), color='#94C600', units='xy', width=0.01, scale=0.2, label='Driving Direction')\n",
    "plt.plot(x0, x1, label=\"EKF Position\", linewidth=5, alpha=0.8)\n",
    "\n",
    "# Measurements\n",
    "plt.scatter(mx[::5], my[::5], s=50, label=\"GPS Measurements\")\n",
    "cbar = plt.colorbar(ticks=np.arange(20))\n",
    "cbar.ax.set_ylabel(u\"EPE\", rotation=270)\n",
    "cbar.ax.set_xlabel(u\"m\")\n",
    "\n",
    "plt.xlabel(\"X [m]\")\n",
    "plt.xlim(80, 120)\n",
    "plt.ylabel(\"Y [m]\")\n",
    "plt.ylim(160, 180)\n",
    "plt.title(\"Position\")\n",
    "plt.legend(loc=\"best\")\n",
    "plt.savefig(\"EKF-Position.png\", dpi=150)"
   ]
  },
  {
   "cell_type": "markdown",
   "metadata": {},
   "source": [
    "# Conclusion"
   ]
  },
  {
   "cell_type": "markdown",
   "metadata": {},
   "source": [
    "As you can see, complicated analytic calculation of the Jacobian Matrices, but it works pretty well."
   ]
  }
 ],
 "metadata": {
  "kernelspec": {
   "display_name": "Python 3",
   "language": "python",
   "name": "python3"
  },
  "language_info": {
   "codemirror_mode": {
    "name": "ipython",
    "version": 3
   },
   "file_extension": ".py",
   "mimetype": "text/x-python",
   "name": "python",
   "nbconvert_exporter": "python",
   "pygments_lexer": "ipython3",
   "version": "3.8.8"
  }
 },
 "nbformat": 4,
 "nbformat_minor": 4
}
