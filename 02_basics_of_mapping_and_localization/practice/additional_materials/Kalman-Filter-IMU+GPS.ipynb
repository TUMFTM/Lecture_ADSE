{
 "cells": [
  {
   "cell_type": "code",
   "execution_count": null,
   "metadata": {},
   "outputs": [],
   "source": [
    "import numpy as np\n",
    "\n",
    "%matplotlib inline\n",
    "import matplotlib.pyplot as plt\n",
    "from scipy.stats import norm"
   ]
  },
  {
   "cell_type": "markdown",
   "metadata": {},
   "source": [
    "# Kalman Filter for Constant Acceleration Model"
   ]
  },
  {
   "cell_type": "markdown",
   "metadata": {},
   "source": [
    "![Kalman Filter Step](../resources/Kalman-Filter-Step.png)"
   ]
  },
  {
   "cell_type": "markdown",
   "metadata": {},
   "source": [
    "## State Vector - Constant Acceleration"
   ]
  },
  {
   "cell_type": "markdown",
   "metadata": {},
   "source": [
    "Constant Acceleration Model for Ego Motion in Plane\n",
    "\n",
    "$$x= \\left[ \\matrix{ x \\\\ y \\\\ \\dot x \\\\ \\dot y \\\\ \\ddot x \\\\ \\ddot y} \\right]$$\n",
    "\n"
   ]
  },
  {
   "cell_type": "markdown",
   "metadata": {},
   "source": [
    "$$x_{k+1} = A \\cdot x_{k} + B \\cdot u$$\n",
    "\n",
    "\n",
    "\n",
    "### Newton's Equations of Motion\n",
    "\n",
    "\n",
    "$$x = vt + x_0$$\n",
    "\n",
    "\n",
    "$$x = \\frac{1}{2}at^2 + v_0t + x_0$$\n",
    "\n",
    "### State Transition (no control input)\n",
    "\n",
    "$$x_{k+1} = \\begin{bmatrix}1 & 0 & \\Delta t & 0 & \\frac{1}{2}\\Delta t^2 & 0 \\\\ 0 & 1 & 0 & \\Delta t & 0 & \\frac{1}{2}\\Delta t^2 \\\\ 0 & 0 & 1 & 0 & \\Delta t & 0 \\\\ 0 & 0 & 0 & 1 & 0 & \\Delta t \\\\ 0 & 0 & 0 & 0 & 1 & 0  \\\\ 0 & 0 & 0 & 0 & 0 & 1\\end{bmatrix} \\cdot \\begin{bmatrix} x \\\\ y \\\\ \\dot x \\\\ \\dot y \\\\ \\ddot x \\\\ \\ddot y\\end{bmatrix}_{k}$$\n",
    "\n",
    "$$y = H \\cdot x$$\n",
    "\n",
    "Acceleration (IMU) and position (GNSS) ($\\ddot x$, $\\ddot y$, $x$, $y$) sensors are used.\n",
    "\n",
    "$$y = \\begin{bmatrix}1 & 0 & 0 & 0 & 0 & 0 \\\\ 0 & 1 & 0 & 0 & 0 & 0 \\\\ 0 & 0 & 0 & 0 & 1 & 0 \\\\ 0 & 0 & 0 & 0 & 0 & 1 \\end{bmatrix} \\cdot x$$"
   ]
  },
  {
   "cell_type": "markdown",
   "metadata": {},
   "source": [
    "#### Initial State"
   ]
  },
  {
   "cell_type": "code",
   "execution_count": null,
   "metadata": {},
   "outputs": [],
   "source": [
    "x = np.matrix([[0.0, 0.0, 0.0, 0.0, 0.0, 0.0]]).T\n",
    "n = x.size  # States\n",
    "plt.scatter(float(x[0]), float(x[1]), s=100)\n",
    "plt.title(\"Initial Location\")"
   ]
  },
  {
   "cell_type": "markdown",
   "metadata": {},
   "source": [
    "#### Initial Uncertainty"
   ]
  },
  {
   "cell_type": "code",
   "execution_count": null,
   "metadata": {},
   "outputs": [],
   "source": [
    "P = np.matrix(\n",
    "    [\n",
    "        [10.0, 0.0, 0.0, 0.0, 0.0, 0.0],\n",
    "        [0.0, 10.0, 0.0, 0.0, 0.0, 0.0],\n",
    "        [0.0, 0.0, 10.0, 0.0, 0.0, 0.0],\n",
    "        [0.0, 0.0, 0.0, 10.0, 0.0, 0.0],\n",
    "        [0.0, 0.0, 0.0, 0.0, 10.0, 0.0],\n",
    "        [0.0, 0.0, 0.0, 0.0, 0.0, 10.0],\n",
    "    ]\n",
    ")\n",
    "print(P)\n",
    "\n",
    "\n",
    "fig = plt.figure(figsize=(6, 6))\n",
    "im = plt.imshow(P, interpolation=\"none\", cmap=plt.get_cmap(\"binary\"))\n",
    "plt.title(\"Initial Covariance Matrix $P$\")\n",
    "ylocs, ylabels = plt.yticks()\n",
    "# set the locations of the yticks\n",
    "plt.yticks(np.arange(7))\n",
    "# set the locations and labels of the yticks\n",
    "plt.yticks(\n",
    "    np.arange(6),\n",
    "    (\"$x$\", \"$y$\", \"$\\dot x$\", \"$\\dot y$\", \"$\\ddot x$\", \"$\\ddot y$\"),\n",
    "    fontsize=22,\n",
    ")\n",
    "\n",
    "xlocs, xlabels = plt.xticks()\n",
    "# set the locations of the yticks\n",
    "plt.xticks(np.arange(7))\n",
    "# set the locations and labels of the yticks\n",
    "plt.xticks(\n",
    "    np.arange(6),\n",
    "    (\"$x$\", \"$y$\", \"$\\dot x$\", \"$\\dot y$\", \"$\\ddot x$\", \"$\\ddot y$\"),\n",
    "    fontsize=22,\n",
    ")\n",
    "\n",
    "plt.xlim([-0.5, 5.5])\n",
    "plt.ylim([5.5, -0.5])\n",
    "\n",
    "from mpl_toolkits.axes_grid1 import make_axes_locatable\n",
    "\n",
    "divider = make_axes_locatable(plt.gca())\n",
    "cax = divider.append_axes(\"right\", \"5%\", pad=\"3%\")\n",
    "plt.colorbar(im, cax=cax)\n",
    "\n",
    "\n",
    "plt.tight_layout()"
   ]
  },
  {
   "cell_type": "markdown",
   "metadata": {},
   "source": [
    "## Dynamic Matrix"
   ]
  },
  {
   "cell_type": "markdown",
   "metadata": {},
   "source": [
    "It is calculated from the dynamics of the Egomotion.\n",
    "\n",
    "$$x_{k+1} = x_{k} + \\dot x_{k} \\cdot \\Delta t +  \\ddot x_k \\cdot \\frac{1}{2}\\Delta t^2$$\n",
    "$$y_{k+1} = y_{k} + \\dot y_{k} \\cdot \\Delta t +  \\ddot y_k \\cdot \\frac{1}{2}\\Delta t^2$$\n",
    "\n",
    "$$\\dot x_{k+1} = \\dot x_{k} + \\ddot x \\cdot \\Delta t$$\n",
    "$$\\dot y_{k+1} = \\dot y_{k} + \\ddot y \\cdot \\Delta t$$\n",
    "\n",
    "$$\\ddot x_{k+1} = \\ddot x_{k}$$\n",
    "$$\\ddot y_{k+1} = \\ddot y_{k}$$"
   ]
  },
  {
   "cell_type": "code",
   "execution_count": null,
   "metadata": {},
   "outputs": [],
   "source": [
    "dt = 0.5  # Time Step between Filter Steps\n",
    "\n",
    "A = np.matrix(\n",
    "    [\n",
    "        [1.0, 0.0, dt, 0.0, 1 / 2.0 * dt ** 2, 0.0],\n",
    "        [0.0, 1.0, 0.0, dt, 0.0, 1 / 2.0 * dt ** 2],\n",
    "        [0.0, 0.0, 1.0, 0.0, dt, 0.0],\n",
    "        [0.0, 0.0, 0.0, 1.0, 0.0, dt],\n",
    "        [0.0, 0.0, 0.0, 0.0, 1.0, 0.0],\n",
    "        [0.0, 0.0, 0.0, 0.0, 0.0, 1.0],\n",
    "    ]\n",
    ")\n",
    "print(A,)"
   ]
  },
  {
   "cell_type": "markdown",
   "metadata": {},
   "source": [
    "## Measurement Matrix"
   ]
  },
  {
   "cell_type": "markdown",
   "metadata": {},
   "source": [
    "Here you can determine, which of the states is covered by a measurement. In this example, the position ($x$ and $y$) as well as the acceleration is measured ($\\ddot x$ and $\\ddot y$)."
   ]
  },
  {
   "cell_type": "code",
   "execution_count": null,
   "metadata": {},
   "outputs": [],
   "source": [
    "H = np.matrix(\n",
    "    [\n",
    "        [0.0, 0.0, 0.0, 0.0, 1.0, 0.0],\n",
    "        [0.0, 0.0, 0.0, 0.0, 0.0, 1.0],\n",
    "        [1.0, 0.0, 0.0, 0.0, 0.0, 0.0],\n",
    "        [0.0, 1.0, 0.0, 0.0, 0.0, 0.0],\n",
    "    ]\n",
    ")\n",
    "print(H)"
   ]
  },
  {
   "cell_type": "markdown",
   "metadata": {},
   "source": [
    "## Measurement Noise Covariance"
   ]
  },
  {
   "cell_type": "code",
   "execution_count": null,
   "metadata": {},
   "outputs": [],
   "source": [
    "ra = 10.0 ** 2\n",
    "rp = 3.0 ** 2\n",
    "R = np.matrix(\n",
    "    [[rp, 0.0, 0.0, 0.0], [0.0, rp, 0.0, 0.0], [0.0, 0.0, ra, 0.0], [0.0, 0.0, 0.0, ra]]\n",
    ")\n",
    "print(R)"
   ]
  },
  {
   "cell_type": "markdown",
   "metadata": {},
   "source": [
    "## Process Noise Covariance Matrix Q for CA Model"
   ]
  },
  {
   "cell_type": "markdown",
   "metadata": {},
   "source": [
    "The Position of an object can be influenced by a force (e.g. wind), which leads to an acceleration disturbance (noise). This process noise has to be modeled with the process noise covariance matrix Q.\n",
    "\n",
    "$$Q = \\begin{bmatrix}\n",
    "    \\sigma_{x}^2 & 0 & \\sigma_{x \\dot x} & 0 & \\sigma_{x \\ddot x} & 0 \\\\\n",
    "    0 & \\sigma_{y}^2 & 0 & \\sigma_{y \\dot y} & 0 & \\sigma_{y \\ddot y} \\\\\n",
    "    \\sigma_{\\dot x x} & 0 & \\sigma_{\\dot x}^2 & 0 & \\sigma_{\\dot x \\ddot x} & 0 \\\\\n",
    "    0 & \\sigma_{\\dot y y} & 0 & \\sigma_{\\dot y}^2 & 0 & \\sigma_{\\dot y \\ddot y} \\\\\n",
    "    \\sigma_{\\ddot x x} & 0 & \\sigma_{\\ddot x \\dot x} & 0 & \\sigma_{\\ddot x}^2 & 0 \\\\\n",
    "    0 & \\sigma_{\\ddot y y} & 0 & \\sigma_{\\ddot y \\dot y} & 0 & \\sigma_{\\ddot y}^2\n",
    "   \\end{bmatrix} \\cdot \\sigma_{j}$$\n",
    "\n",
    "To easily calcualte Q, one can ask the question: How the noise effects my state vector? For example, how the jerk change the position over one timestep dt. With $\\sigma_{j}$ as the magnitude of the standard deviation of the jerk, which distrubs the car. We do not assume cross correlation, which means if a jerk will act in x direction of the movement, it will not push in y direction at the same time."
   ]
  },
  {
   "cell_type": "markdown",
   "metadata": {},
   "source": [
    "#### Symbolic Calculation"
   ]
  },
  {
   "cell_type": "code",
   "execution_count": null,
   "metadata": {},
   "outputs": [],
   "source": [
    "from sympy import Symbol, Matrix\n",
    "from sympy.interactive import printing\n",
    "\n",
    "# printing.init_printing(use_latex=True)\n",
    "dts = Symbol(\"\\Delta t\")"
   ]
  },
  {
   "cell_type": "code",
   "execution_count": null,
   "metadata": {},
   "outputs": [],
   "source": [
    "As = Matrix(\n",
    "    [\n",
    "        [1, 0, dts, 0, 1 / 2 * dts ** 2, 0],\n",
    "        [0, 1, 0, dts, 0, 1 / 2 * dts ** 2],\n",
    "        [0, 0, 1, 0, dts, 0],\n",
    "        [0, 0, 0, 1, 0, dts],\n",
    "        [0, 0, 0, 0, 1, 0],\n",
    "        [0, 0, 0, 0, 0, 1],\n",
    "    ]\n",
    ")\n",
    "# this\n",
    "Gs = Matrix([dts ** 3 / 6, dts ** 2 / 2, dts])"
   ]
  },
  {
   "cell_type": "code",
   "execution_count": null,
   "metadata": {},
   "outputs": [],
   "source": [
    "sj = 0.1\n",
    "\n",
    "Q = (\n",
    "    np.matrix(\n",
    "        [\n",
    "            [(dt ** 6) / 36, 0, (dt ** 5) / 12, 0, (dt ** 4) / 6, 0],\n",
    "            [0, (dt ** 6) / 36, 0, (dt ** 5) / 12, 0, (dt ** 4) / 6],\n",
    "            [(dt ** 5) / 12, 0, (dt ** 4) / 4, 0, (dt ** 3) / 2, 0],\n",
    "            [0, (dt ** 5) / 12, 0, (dt ** 4) / 4, 0, (dt ** 3) / 2],\n",
    "            [(dt ** 4) / 6, 0, (dt ** 3) / 2, 0, (dt ** 2), 0],\n",
    "            [0, (dt ** 4) / 6, 0, (dt ** 3) / 2, 0, (dt ** 2)],\n",
    "        ]\n",
    "    )\n",
    "    * sj ** 2\n",
    ")\n",
    "\n",
    "print(Q, Q.shape)"
   ]
  },
  {
   "cell_type": "code",
   "execution_count": null,
   "metadata": {},
   "outputs": [],
   "source": [
    "fig = plt.figure(figsize=(6, 6))\n",
    "im = plt.imshow(Q, interpolation=\"none\", cmap=plt.get_cmap(\"binary\"))\n",
    "plt.title(\"Process Noise Covariance Matrix $Q$\")\n",
    "ylocs, ylabels = plt.yticks()\n",
    "# set the locations of the yticks\n",
    "plt.yticks(np.arange(7))\n",
    "# set the locations and labels of the yticks\n",
    "plt.yticks(\n",
    "    np.arange(6),\n",
    "    (\"$x$\", \"$y$\", \"$\\dot x$\", \"$\\dot y$\", \"$\\ddot x$\", \"$\\ddot y$\"),\n",
    "    fontsize=22,\n",
    ")\n",
    "\n",
    "xlocs, xlabels = plt.xticks()\n",
    "# set the locations of the yticks\n",
    "plt.xticks(np.arange(7))\n",
    "# set the locations and labels of the yticks\n",
    "plt.xticks(\n",
    "    np.arange(6),\n",
    "    (\"$x$\", \"$y$\", \"$\\dot x$\", \"$\\dot y$\", \"$\\ddot x$\", \"$\\ddot y$\"),\n",
    "    fontsize=22,\n",
    ")\n",
    "\n",
    "plt.xlim([-0.5, 5.5])\n",
    "plt.ylim([5.5, -0.5])\n",
    "\n",
    "from mpl_toolkits.axes_grid1 import make_axes_locatable\n",
    "\n",
    "divider = make_axes_locatable(plt.gca())\n",
    "cax = divider.append_axes(\"right\", \"5%\", pad=\"3%\")\n",
    "plt.colorbar(im, cax=cax)\n",
    "\n",
    "plt.tight_layout()"
   ]
  },
  {
   "cell_type": "markdown",
   "metadata": {},
   "source": [
    "## Identity Matrix"
   ]
  },
  {
   "cell_type": "code",
   "execution_count": null,
   "metadata": {},
   "outputs": [],
   "source": [
    "I = np.eye(n)"
   ]
  },
  {
   "cell_type": "markdown",
   "metadata": {},
   "source": [
    "## Measurement"
   ]
  },
  {
   "cell_type": "markdown",
   "metadata": {},
   "source": [
    "They are generated synthetically"
   ]
  },
  {
   "cell_type": "code",
   "execution_count": null,
   "metadata": {},
   "outputs": [],
   "source": [
    "import pandas as pd\n",
    "from pyproj import Proj\n",
    "\n",
    "\n",
    "df = pd.read_csv(\"../data/2014-03-26-000-Data.csv\")\n",
    "data = df[[\"ax\", \"ay\", \"latitude\", \"longitude\"]].dropna()\n",
    "ax = df[\"ax\"].dropna()\n",
    "ay = df[\"ay\"].dropna()\n",
    "px = df[\"latitude\"].dropna()\n",
    "py = df[\"longitude\"].dropna()\n",
    "\n",
    "m = len(data.ax)  # Measurements\n",
    "\n",
    "utm_converter = Proj(\n",
    "    \"+proj=utm +zone=33U, +south +ellps=WGS84 +datum=WGS84 +units=m +no_defs\"\n",
    ")\n",
    "\n",
    "for i in range(len(px)):\n",
    "    py[i], px[i] = utm_converter(py[i], px[i])\n",
    "    px[i] = px[i] + np.random.normal(0, 2.0, 1)\n",
    "    py[i] = py[i] + np.random.normal(0, 2.0, 1)\n",
    "\n",
    "py_offset = py[0]\n",
    "px_offset = px[0]\n",
    "px = px - px_offset\n",
    "py = py - py_offset\n",
    "measurements = np.vstack((ax, ay, px, py))"
   ]
  },
  {
   "cell_type": "code",
   "execution_count": null,
   "metadata": {},
   "outputs": [],
   "source": [
    "fig = plt.figure(figsize=(16, 9))\n",
    "plt.step(range(m), ax, label=\"$a_x$\")\n",
    "plt.step(range(m), ay, label=\"$a_y$\")\n",
    "plt.ylabel(\"Acceleration\")\n",
    "plt.title(\"IMU Measurements\")\n",
    "plt.ylim([-20, 20])\n",
    "plt.legend(loc=\"best\", prop={\"size\": 18})"
   ]
  },
  {
   "cell_type": "code",
   "execution_count": null,
   "metadata": {},
   "outputs": [],
   "source": [
    "fig = plt.figure(figsize=(16, 9))\n",
    "plt.step(px, py, label=\"$GNSS$\")\n",
    "plt.xlabel(\"x\")\n",
    "plt.ylabel(\"y\")\n",
    "plt.title(\"GNSS Measurements\")\n",
    "plt.xlim([min(px), max(px)])\n",
    "plt.ylim([min(py), max(py)])\n",
    "plt.legend(loc=\"best\", prop={\"size\": 18})"
   ]
  },
  {
   "cell_type": "code",
   "execution_count": null,
   "metadata": {},
   "outputs": [],
   "source": [
    "# Preallocation for Plotting\n",
    "xt = []\n",
    "yt = []\n",
    "dxt = []\n",
    "dyt = []\n",
    "ddxt = []\n",
    "ddyt = []\n",
    "Zx = []\n",
    "Zy = []\n",
    "Px = []\n",
    "Py = []\n",
    "Pdx = []\n",
    "Pdy = []\n",
    "Pddx = []\n",
    "Pddy = []\n",
    "Kx = []\n",
    "Ky = []\n",
    "Kdx = []\n",
    "Kdy = []\n",
    "Kddx = []\n",
    "Kddy = []"
   ]
  },
  {
   "cell_type": "markdown",
   "metadata": {},
   "source": [
    "## Kalman Filter"
   ]
  },
  {
   "cell_type": "code",
   "execution_count": null,
   "metadata": {},
   "outputs": [],
   "source": [
    "for n in range(m):\n",
    "    # for n in range(5):\n",
    "\n",
    "    # Time Update (Prediction)\n",
    "    # ========================\n",
    "    # Project the state ahead\n",
    "    x = A * x\n",
    "\n",
    "    # Project the error covariance ahead\n",
    "    P = A * P * A.T + Q\n",
    "\n",
    "    # Measurement Update (Correction)\n",
    "    # ===============================\n",
    "    # Compute the Kalman Gain\n",
    "    S = H * P * H.T + R\n",
    "    K = (P * H.T) * np.linalg.pinv(S)\n",
    "\n",
    "    # Update the estimate via z\n",
    "    Z = measurements[:, n].reshape(H.shape[0], 1)\n",
    "    y = Z - (H * x)  # Innovation or Residual\n",
    "    x = x + (K * y)\n",
    "\n",
    "    # Update the error covariance\n",
    "    P = (I - (K * H)) * P\n",
    "\n",
    "    # Save states for Plotting\n",
    "    xt.append(float(x[0]))\n",
    "    yt.append(float(x[1]))\n",
    "    dxt.append(float(x[2]))\n",
    "    dyt.append(float(x[3]))\n",
    "    ddxt.append(float(x[4]))\n",
    "    ddyt.append(float(x[5]))\n",
    "    Zx.append(float(Z[0]))\n",
    "    Zy.append(float(Z[1]))\n",
    "    Px.append(float(P[0, 0]))\n",
    "    Py.append(float(P[1, 1]))\n",
    "    Pdx.append(float(P[2, 2]))\n",
    "    Pdy.append(float(P[3, 3]))\n",
    "    Pddx.append(float(P[4, 4]))\n",
    "    Pddy.append(float(P[5, 5]))\n",
    "    Kx.append(float(K[0, 0]))\n",
    "    Ky.append(float(K[1, 0]))\n",
    "    Kdx.append(float(K[2, 0]))\n",
    "    Kdy.append(float(K[3, 0]))\n",
    "    Kddx.append(float(K[4, 0]))\n",
    "    Kddy.append(float(K[5, 0]))"
   ]
  },
  {
   "cell_type": "markdown",
   "metadata": {},
   "source": [
    "## Plots"
   ]
  },
  {
   "cell_type": "markdown",
   "metadata": {},
   "source": [
    "### Uncertainty"
   ]
  },
  {
   "cell_type": "code",
   "execution_count": null,
   "metadata": {},
   "outputs": [],
   "source": [
    "print(len(Pddx))\n",
    "print(len(Pddy))\n",
    "fig = plt.figure(figsize=(16, 4))\n",
    "# plt.plot(range(len(measurements[0])),Px, label='$x$')\n",
    "# plt.plot(range(len(measurements[0])),Py, label='$y$')\n",
    "plt.plot(range(len(measurements[0])), Pddx, label=\"$\\ddot x$\")\n",
    "plt.plot(range(len(measurements[0])), Pddy, label=\"$\\ddot y$\")\n",
    "\n",
    "plt.xlabel(\"Filter Step\")\n",
    "plt.ylabel(\"\")\n",
    "plt.title(\"Uncertainty (Elements from Matrix $P$)\")\n",
    "plt.legend(loc=\"best\", prop={\"size\": 22})"
   ]
  },
  {
   "cell_type": "markdown",
   "metadata": {},
   "source": [
    "### Kalman Gains"
   ]
  },
  {
   "cell_type": "code",
   "execution_count": null,
   "metadata": {},
   "outputs": [],
   "source": [
    "fig = plt.figure(figsize=(16, 9))\n",
    "plt.plot(range(len(measurements[0])), Kx, label=\"Kalman Gain for $x$\")\n",
    "plt.plot(range(len(measurements[0])), Ky, label=\"Kalman Gain for $y$\")\n",
    "plt.plot(range(len(measurements[0])), Kdx, label=\"Kalman Gain for $\\dot x$\")\n",
    "plt.plot(range(len(measurements[0])), Kdy, label=\"Kalman Gain for $\\dot y$\")\n",
    "plt.plot(range(len(measurements[0])), Kddx, label=\"Kalman Gain for $\\ddot x$\")\n",
    "plt.plot(range(len(measurements[0])), Kddy, label=\"Kalman Gain for $\\ddot y$\")\n",
    "\n",
    "plt.xlabel(\"Filter Step\")\n",
    "plt.ylabel(\"\")\n",
    "plt.title(\"Kalman Gain (the lower, the more the measurement fullfill the prediction)\")\n",
    "plt.legend(loc=\"best\", prop={\"size\": 18})"
   ]
  },
  {
   "cell_type": "markdown",
   "metadata": {},
   "source": [
    "### Covariance Matrix"
   ]
  },
  {
   "cell_type": "code",
   "execution_count": null,
   "metadata": {},
   "outputs": [],
   "source": [
    "fig = plt.figure(figsize=(6, 6))\n",
    "im = plt.imshow(P, interpolation=\"none\", cmap=plt.get_cmap(\"binary\"))\n",
    "plt.title(\"Covariance Matrix $P$ (after %i Filter Steps)\" % (m))\n",
    "ylocs, ylabels = plt.yticks()\n",
    "# set the locations of the yticks\n",
    "plt.yticks(np.arange(7))\n",
    "# set the locations and labels of the yticks\n",
    "plt.yticks(\n",
    "    np.arange(6),\n",
    "    (\"$x$\", \"$y$\", \"$\\dot x$\", \"$\\dot y$\", \"$\\ddot x$\", \"$\\ddot y$\"),\n",
    "    fontsize=22,\n",
    ")\n",
    "\n",
    "xlocs, xlabels = plt.xticks()\n",
    "# set the locations of the yticks\n",
    "plt.xticks(np.arange(7))\n",
    "# set the locations and labels of the yticks\n",
    "plt.xticks(\n",
    "    np.arange(6),\n",
    "    (\"$x$\", \"$y$\", \"$\\dot x$\", \"$\\dot y$\", \"$\\ddot x$\", \"$\\ddot y$\"),\n",
    "    fontsize=22,\n",
    ")\n",
    "\n",
    "plt.xlim([-0.5, 5.5])\n",
    "plt.ylim([5.5, -0.5])\n",
    "\n",
    "from mpl_toolkits.axes_grid1 import make_axes_locatable\n",
    "\n",
    "divider = make_axes_locatable(plt.gca())\n",
    "cax = divider.append_axes(\"right\", \"5%\", pad=\"3%\")\n",
    "plt.colorbar(im, cax=cax)\n",
    "\n",
    "\n",
    "plt.tight_layout()"
   ]
  },
  {
   "cell_type": "markdown",
   "metadata": {},
   "source": [
    "## State Vector"
   ]
  },
  {
   "cell_type": "code",
   "execution_count": null,
   "metadata": {},
   "outputs": [],
   "source": [
    "fig = plt.figure(figsize=(16, 12))\n",
    "\n",
    "plt.subplot(311)\n",
    "plt.step(range(len(measurements[0])), ddxt, label=\"$\\ddot x$\")\n",
    "plt.step(range(len(measurements[0])), ddyt, label=\"$\\ddot y$\")\n",
    "\n",
    "plt.title(\"Estimate (Elements from State Vector $x$)\")\n",
    "plt.legend(loc=\"best\", prop={\"size\": 22})\n",
    "plt.ylabel(\"Acceleration\")\n",
    "\n",
    "plt.subplot(312)\n",
    "plt.step(range(len(measurements[0])), dxt, label=\"$\\dot x$\")\n",
    "plt.step(range(len(measurements[0])), dyt, label=\"$\\dot y$\")\n",
    "\n",
    "plt.ylabel(\"\")\n",
    "plt.legend(loc=\"best\", prop={\"size\": 22})\n",
    "plt.ylabel(\"Velocity\")\n",
    "\n",
    "plt.subplot(313)\n",
    "plt.step(range(len(measurements[0])), xt, label=\"$x$\")\n",
    "plt.step(range(len(measurements[0])), yt, label=\"$y$\")\n",
    "\n",
    "plt.xlabel(\"Filter Step\")\n",
    "plt.ylabel(\"\")\n",
    "plt.legend(loc=\"best\", prop={\"size\": 22})\n",
    "plt.ylabel(\"Position\")"
   ]
  },
  {
   "cell_type": "markdown",
   "metadata": {},
   "source": [
    "## Position x/y"
   ]
  },
  {
   "cell_type": "code",
   "execution_count": null,
   "metadata": {},
   "outputs": [],
   "source": [
    "fig = plt.figure(figsize=(16, 9))\n",
    "\n",
    "plt.scatter(xt[0], yt[0], s=100, label=\"Start\", c=\"g\")\n",
    "plt.scatter(xt[-1], yt[-1], s=100, label=\"Goal\", c=\"r\")\n",
    "plt.plot(xt, yt, label=\"State\", alpha=0.5)\n",
    "plt.xlabel(\"X\")\n",
    "plt.ylabel(\"Y\")\n",
    "plt.title(\"Position\")\n",
    "plt.legend(loc=\"best\")\n",
    "plt.xlim(min(xt), max(xt))\n",
    "plt.ylim(min(yt), max(yt))"
   ]
  },
  {
   "cell_type": "markdown",
   "metadata": {},
   "source": [
    "# Conclusion"
   ]
  },
  {
   "cell_type": "code",
   "execution_count": null,
   "metadata": {},
   "outputs": [],
   "source": [
    "dist = np.cumsum(np.sqrt(np.diff(xt) ** 2 + np.diff(yt) ** 2))\n",
    "print(\"Your drifted %d units from origin.\" % dist[-1])"
   ]
  },
  {
   "cell_type": "markdown",
   "metadata": {},
   "source": [
    "As you can see, bad idea just to measure the acceleration and try to get the position. The errors integrating up, so your position estimation is drifting."
   ]
  }
 ],
 "metadata": {
  "kernelspec": {
   "display_name": "Python 3",
   "language": "python",
   "name": "python3"
  },
  "language_info": {
   "codemirror_mode": {
    "name": "ipython",
    "version": 3
   },
   "file_extension": ".py",
   "mimetype": "text/x-python",
   "name": "python",
   "nbconvert_exporter": "python",
   "pygments_lexer": "ipython3",
   "version": "3.8.8"
  }
 },
 "nbformat": 4,
 "nbformat_minor": 1
}
