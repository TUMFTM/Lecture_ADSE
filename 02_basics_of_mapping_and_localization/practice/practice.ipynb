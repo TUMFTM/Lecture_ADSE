{
 "cells": [
  {
   "cell_type": "markdown",
   "metadata": {},
   "source": [
    "# Data Base"
   ]
  },
  {
   "cell_type": "markdown",
   "metadata": {},
   "source": [
    "![PyData Berlin](resources/PyDataLogo.png) "
   ]
  },
  {
   "cell_type": "markdown",
   "metadata": {},
   "source": [
    "# Important Packages"
   ]
  },
  {
   "cell_type": "markdown",
   "metadata": {},
   "source": [
    "![Numpy](resources/numpy.png) "
   ]
  },
  {
   "cell_type": "markdown",
   "metadata": {},
   "source": [
    "![Pandas](resources/pandas.png) "
   ]
  },
  {
   "cell_type": "markdown",
   "metadata": {},
   "source": [
    "![Matplotlib](resources/matplotlib.jpeg) "
   ]
  },
  {
   "cell_type": "markdown",
   "metadata": {},
   "source": [
    "![Seaborn](resources/seaborn.svg) "
   ]
  },
  {
   "cell_type": "markdown",
   "metadata": {},
   "source": [
    "![SciPy](resources/scipy.png) "
   ]
  },
  {
   "cell_type": "code",
   "execution_count": null,
   "metadata": {
    "jupyter": {
     "outputs_hidden": false
    }
   },
   "outputs": [],
   "source": [
    "import numpy as np\n",
    "import pandas as pd\n",
    "import matplotlib.pyplot as plt\n",
    "from ipywidgets import interact\n",
    "\n",
    "# import matplotlib.mlab as mlab\n",
    "import seaborn as sb\n",
    "\n",
    "sb.set(style=\"white\", palette=\"muted\")\n",
    "sb.set_context(\"talk\")\n",
    "\n",
    "%matplotlib inline"
   ]
  },
  {
   "cell_type": "markdown",
   "metadata": {},
   "source": [
    "## Experiment: Static IMU and GNSS measurements"
   ]
  },
  {
   "cell_type": "markdown",
   "metadata": {},
   "source": [
    "### Sensor measurements always include uncertainty\n",
    "\n",
    "Sensor measurements of IMU and GNSS while positions are don't change. <br>\n",
    "A sensor without any uncertainty would output constant values.\n"
   ]
  },
  {
   "cell_type": "code",
   "execution_count": null,
   "metadata": {
    "jupyter": {
     "outputs_hidden": false
    }
   },
   "outputs": [],
   "source": [
    "df = pd.read_csv(\"data/2014-06-27-001-Data.csv\")\n",
    "df.index = pd.to_datetime(df[\"millis\"], unit=\"ms\")"
   ]
  },
  {
   "cell_type": "markdown",
   "metadata": {},
   "source": [
    "## Acceleration measurements"
   ]
  },
  {
   "cell_type": "code",
   "execution_count": null,
   "metadata": {
    "jupyter": {
     "outputs_hidden": false
    }
   },
   "outputs": [],
   "source": [
    "accelerations = df[[\"ax\", \"ay\"]].dropna()\n",
    "accelerations.plot(figsize=(10, 6))"
   ]
  },
  {
   "cell_type": "markdown",
   "metadata": {},
   "source": [
    "### Reasons for offset\n",
    "- Bad calibration of sensor\n",
    "- Sensor placed at an angle --> gravity"
   ]
  },
  {
   "cell_type": "markdown",
   "metadata": {},
   "source": [
    "## Distribution: Apply Gaussian"
   ]
  },
  {
   "cell_type": "code",
   "execution_count": null,
   "metadata": {
    "jupyter": {
     "outputs_hidden": false
    }
   },
   "outputs": [],
   "source": [
    "import scipy.stats as stats\n",
    "from scipy.stats import norm\n",
    "from ipywidgets import interact"
   ]
  },
  {
   "cell_type": "code",
   "execution_count": null,
   "metadata": {
    "jupyter": {
     "outputs_hidden": false
    }
   },
   "outputs": [],
   "source": [
    "@interact\n",
    "def plot_sb_dist(column=accelerations.columns.tolist()):\n",
    "    plt.figure(figsize=(10, 4))\n",
    "\n",
    "    # Plot distribution\n",
    "    sb.histplot(accelerations[column], kde=False, bins=15, label=\"# of Sensor Readings\")\n",
    "    plt.legend()"
   ]
  },
  {
   "cell_type": "markdown",
   "metadata": {},
   "source": [
    "### The Gaussian Normal distribution fits the sensor measurements!"
   ]
  },
  {
   "cell_type": "code",
   "execution_count": null,
   "metadata": {},
   "outputs": [],
   "source": [
    "@interact\n",
    "def plot_sb_dist(column=accelerations.columns.tolist()):\n",
    "    plt.figure(figsize=(10, 4))\n",
    "\n",
    "    # Plot distribution\n",
    "    sb.histplot(accelerations[column], kde=False, bins=15, label=\"# of Sensor Readings\")\n",
    "    plt.legend()\n",
    "\n",
    "    # Plot Gaussian\n",
    "    mu, std = norm.fit(accelerations[column])\n",
    "    print(\"mean:          \", mu)\n",
    "    print(\"variance:      \", std ** 2, \"\\n\")\n",
    "    print(\"std deviation: \", std)\n",
    "\n",
    "    xmin, xmax = plt.xlim()\n",
    "    x = np.linspace(xmin, xmax, 100)\n",
    "    p = norm.pdf(x, mu, std) * 20\n",
    "    plt.plot(x, p, \"k\", linewidth=2)\n",
    "    plt.show()"
   ]
  },
  {
   "cell_type": "markdown",
   "metadata": {},
   "source": [
    "## GPS Measurement"
   ]
  },
  {
   "cell_type": "markdown",
   "metadata": {},
   "source": [
    "GPS measurements are in latitude and longitude coordinate frame."
   ]
  },
  {
   "cell_type": "code",
   "execution_count": null,
   "metadata": {
    "jupyter": {
     "outputs_hidden": false
    }
   },
   "outputs": [],
   "source": [
    "gps = pd.DataFrame()"
   ]
  },
  {
   "cell_type": "markdown",
   "metadata": {},
   "source": [
    "Convert Lat Lon coordinates to UTM.\n",
    "\n",
    "![UTM frame](resources/UTM.jpg) \n",
    "\n",
    "https://de.wikipedia.org/wiki/UTM-Koordinatensystem#/media/Datei:Utm-zones.jpg"
   ]
  },
  {
   "cell_type": "code",
   "execution_count": null,
   "metadata": {},
   "outputs": [],
   "source": [
    "from pyproj import Proj\n",
    "\n",
    "utm_converter = Proj(\n",
    "    \"+proj=utm +zone=33U, +south +ellps=WGS84 +datum=WGS84 +units=m +no_defs\"\n",
    ")\n",
    "gps[\"UTMx\"] = df.latitude\n",
    "gps[\"UTMy\"] = df.longitude\n",
    "\n",
    "for i in range(len(df.longitude)):\n",
    "    gps[\"UTMx\"].array[i], gps[\"UTMy\"].array[i] = utm_converter(\n",
    "        df.longitude[i], df.latitude[i]\n",
    "    )"
   ]
  },
  {
   "cell_type": "markdown",
   "metadata": {},
   "source": [
    "### From a perfect position sensor we would expect all measurements to be in one point."
   ]
  },
  {
   "cell_type": "code",
   "execution_count": null,
   "metadata": {},
   "outputs": [],
   "source": [
    "sb.jointplot(\n",
    "    x=gps.UTMx,\n",
    "    y=gps.UTMy,\n",
    "    kind=\"scatter\",\n",
    "    xlim=(gps.UTMx.min() - 1, gps.UTMx.max() + 1),\n",
    "    ylim=(gps.UTMy.min() - 1, gps.UTMy.max() + 1),\n",
    "    height=10,\n",
    "    space=1,\n",
    ")"
   ]
  },
  {
   "cell_type": "markdown",
   "metadata": {},
   "source": [
    "### Uncertainty in $y$ is way bigger than in $x$."
   ]
  },
  {
   "cell_type": "code",
   "execution_count": null,
   "metadata": {
    "jupyter": {
     "outputs_hidden": false
    }
   },
   "outputs": [],
   "source": [
    "@interact\n",
    "def plot_sb_dist(column=gps.columns.tolist()):\n",
    "    plt.figure(figsize=(10, 6))\n",
    "\n",
    "    # plot distribution\n",
    "    sb.histplot(gps[column])\n",
    "\n",
    "    # plot Gaussian\n",
    "    mu, std = norm.fit(gps[column])\n",
    "    xmin, xmax = plt.xlim()\n",
    "    x = np.linspace(xmin, xmax, 100)\n",
    "    p = norm.pdf(x, mu, std) * 100\n",
    "    plt.plot(x, p, \"k\", linewidth=2)\n",
    "    plt.show()"
   ]
  },
  {
   "cell_type": "markdown",
   "metadata": {},
   "source": [
    "### Sensor measurements are not exact Gaussians. But it still gives us a nice estimate."
   ]
  },
  {
   "cell_type": "markdown",
   "metadata": {},
   "source": [
    "<br>\n",
    "<br>\n",
    "<br>\n",
    "<br>\n",
    "<br>\n",
    "\n",
    "# Kalman Filter in 1 Dimension"
   ]
  },
  {
   "cell_type": "code",
   "execution_count": null,
   "metadata": {
    "jupyter": {
     "outputs_hidden": false
    }
   },
   "outputs": [],
   "source": [
    "import numpy as np\n",
    "import pandas as pd\n",
    "import matplotlib.pyplot as plt\n",
    "import matplotlib.mlab as mlab\n",
    "import seaborn as sb\n",
    "from scipy import stats\n",
    "import time\n",
    "\n",
    "sb.set()  # Reset Style\n",
    "sb.set_context(\"talk\")"
   ]
  },
  {
   "cell_type": "code",
   "execution_count": null,
   "metadata": {
    "jupyter": {
     "outputs_hidden": false
    }
   },
   "outputs": [],
   "source": [
    "%matplotlib inline\n",
    "fw = 10  # figure width"
   ]
  },
  {
   "cell_type": "code",
   "execution_count": null,
   "metadata": {
    "jupyter": {
     "outputs_hidden": false
    }
   },
   "outputs": [],
   "source": [
    "# Plot the Distributions in this range:\n",
    "x = np.linspace(-50, 100, 1000)"
   ]
  },
  {
   "cell_type": "markdown",
   "metadata": {},
   "source": [
    "## Initial State\n",
    "\n",
    "Initial position is set to 0 if we don't have further information.\n",
    "The initial variance can be set according to expected values."
   ]
  },
  {
   "cell_type": "code",
   "execution_count": null,
   "metadata": {
    "jupyter": {
     "outputs_hidden": false
    }
   },
   "outputs": [],
   "source": [
    "mean0 = 0.0  # e.g. meters\n",
    "var0 = 3.0"
   ]
  },
  {
   "cell_type": "code",
   "execution_count": null,
   "metadata": {
    "jupyter": {
     "outputs_hidden": false
    }
   },
   "outputs": [],
   "source": [
    "plt.figure(figsize=(18, 10))\n",
    "plt.plot(x, stats.norm.pdf(x, mean0, var0), label=\"Normal Distribution Initial State\")\n",
    "plt.ylim(0, 0.225)\n",
    "plt.legend(loc=\"best\")\n",
    "plt.ylabel(\"Probability\")\n",
    "plt.xlabel(\"x in m\")"
   ]
  },
  {
   "cell_type": "markdown",
   "metadata": {},
   "source": [
    "## Motion Prediction\n",
    "\n",
    "Use motion model (e.g. point mass model) to predict motion.\n",
    "Motion is assumed as a Gaussian distribution."
   ]
  },
  {
   "cell_type": "code",
   "execution_count": null,
   "metadata": {
    "jupyter": {
     "outputs_hidden": false
    }
   },
   "outputs": [],
   "source": [
    "meanMove = 25.0  # e.g. meters, calculated from velocity*dt, wheelspeed sensors etc.\n",
    "varMove = 5.0  # Estimated or determined with static measurements"
   ]
  },
  {
   "cell_type": "code",
   "execution_count": null,
   "metadata": {
    "jupyter": {
     "outputs_hidden": false
    }
   },
   "outputs": [],
   "source": [
    "plt.figure(figsize=(18, 10))\n",
    "plt.plot(\n",
    "    x,\n",
    "    stats.norm.pdf(x, meanMove, varMove),\n",
    "    label=\"Normal Distribution Motion Prediction\",\n",
    ")\n",
    "plt.ylim(0, 0.225)\n",
    "plt.legend(loc=\"best\")\n",
    "plt.ylabel(\"Probability\")\n",
    "plt.xlabel(\"x in m\")"
   ]
  },
  {
   "cell_type": "markdown",
   "metadata": {},
   "source": [
    "## Addition of motion prediction to prior position estimate"
   ]
  },
  {
   "cell_type": "markdown",
   "metadata": {},
   "source": [
    "![Motion Prediction Slide](resources/MotionPrediction.png) "
   ]
  },
  {
   "cell_type": "code",
   "execution_count": null,
   "metadata": {
    "jupyter": {
     "outputs_hidden": false
    }
   },
   "outputs": [],
   "source": [
    "def predict(var, mean, varMove, meanMove):\n",
    "    new_mean = mean + meanMove\n",
    "    new_var = var + varMove\n",
    "    return new_var, new_mean"
   ]
  },
  {
   "cell_type": "code",
   "execution_count": null,
   "metadata": {
    "jupyter": {
     "outputs_hidden": false
    }
   },
   "outputs": [],
   "source": [
    "new_var, new_mean = predict(var0, mean0, varMove, meanMove)"
   ]
  },
  {
   "cell_type": "code",
   "execution_count": null,
   "metadata": {
    "jupyter": {
     "outputs_hidden": false
    }
   },
   "outputs": [],
   "source": [
    "plt.figure(figsize=(18, 10))\n",
    "plt.plot(x, stats.norm.pdf(x, mean0, var0), label=\"Initial Estimate\")\n",
    "plt.plot(x, stats.norm.pdf(x, meanMove, varMove), label=\"Motion Prediction\")\n",
    "plt.plot(x, stats.norm.pdf(x, new_mean, new_var), label=\"Predicted State Estimate\")\n",
    "plt.ylim(0, 0.225)\n",
    "plt.legend(loc=\"best\")\n",
    "plt.title(\"Normal Distributions of 1st Kalman Filter Prediction Step\")\n",
    "plt.ylabel(\"Probability\")\n",
    "plt.xlabel(\"x in m\")"
   ]
  },
  {
   "cell_type": "markdown",
   "metadata": {},
   "source": [
    "## The motion prediction increases the uncertainty!"
   ]
  },
  {
   "cell_type": "markdown",
   "metadata": {},
   "source": [
    "<br>\n",
    "<br>\n",
    "\n",
    "# Measurement Update\n",
    "## We assume a direct position measurement (GNSS)"
   ]
  },
  {
   "cell_type": "markdown",
   "metadata": {},
   "source": [
    "### Sensor Defaults for Position Measurements"
   ]
  },
  {
   "cell_type": "code",
   "execution_count": null,
   "metadata": {
    "jupyter": {
     "outputs_hidden": false
    }
   },
   "outputs": [],
   "source": [
    "meanSensor = 27.0\n",
    "varSensor = 3.0"
   ]
  },
  {
   "cell_type": "code",
   "execution_count": null,
   "metadata": {
    "jupyter": {
     "outputs_hidden": false
    }
   },
   "outputs": [],
   "source": [
    "plt.figure(figsize=(18, 10))\n",
    "plt.plot(\n",
    "    x,\n",
    "    stats.norm.pdf(x, meanSensor, varSensor),\n",
    "    label=\"Normal Distribution Measurement Update\",\n",
    ")\n",
    "plt.legend(loc=\"best\")\n",
    "plt.ylim(0, 0.225)\n",
    "plt.ylabel(\"Probability\")\n",
    "plt.xlabel(\"x in m\")"
   ]
  },
  {
   "cell_type": "markdown",
   "metadata": {},
   "source": [
    "## Combination of prior position estimate and new sensor measurement"
   ]
  },
  {
   "cell_type": "code",
   "execution_count": null,
   "metadata": {},
   "outputs": [],
   "source": [
    "plt.figure(figsize=(18, 10))\n",
    "plt.plot(x, stats.norm.pdf(x, new_mean, new_var), label=\"Predicted State Estimate\")\n",
    "plt.plot(x, stats.norm.pdf(x, meanSensor, varSensor), label=\"Sensor Measurement\")\n",
    "plt.ylim(0, 0.225)\n",
    "plt.legend(loc=\"best\")\n",
    "plt.title(\"Normal Distributions of 1st Kalman Filter Update Step\")\n",
    "plt.ylabel(\"Probability\")\n",
    "plt.xlabel(\"x in m\")"
   ]
  },
  {
   "cell_type": "markdown",
   "metadata": {},
   "source": [
    "![Measurement Update Slide](resources/MeasurementUpdate.png) "
   ]
  },
  {
   "cell_type": "code",
   "execution_count": null,
   "metadata": {
    "jupyter": {
     "outputs_hidden": false
    }
   },
   "outputs": [],
   "source": [
    "def update(var, mean, varSensor, meanSensor):\n",
    "    new_mean = (varSensor * mean + var * meanSensor) / (var + varSensor)\n",
    "    new_var = 1 / (1 / var + 1 / varSensor)\n",
    "    return new_var, new_mean"
   ]
  },
  {
   "cell_type": "code",
   "execution_count": null,
   "metadata": {
    "jupyter": {
     "outputs_hidden": false
    }
   },
   "outputs": [],
   "source": [
    "var, mean = update(new_var, new_mean, varSensor, meanSensor)"
   ]
  },
  {
   "cell_type": "code",
   "execution_count": null,
   "metadata": {
    "jupyter": {
     "outputs_hidden": false
    }
   },
   "outputs": [],
   "source": [
    "plt.figure(figsize=(18, 10))\n",
    "plt.plot(x, stats.norm.pdf(x, new_mean, new_var), label=\"Predicted State Estimate\")\n",
    "plt.plot(x, stats.norm.pdf(x, meanSensor, varSensor), label=\"Sensor Measurement\")\n",
    "plt.plot(x, stats.norm.pdf(x, mean, var), label=\"Updated State Estimate\")\n",
    "plt.ylim(0, 0.225)\n",
    "plt.legend(loc=\"best\")\n",
    "plt.title(\"Normal Distributions of 1st Kalman Filter Update Step\")\n",
    "plt.ylabel(\"Probability\")\n",
    "plt.xlabel(\"x in m\")"
   ]
  },
  {
   "cell_type": "markdown",
   "metadata": {},
   "source": [
    "## Measurement update decreases uncertainty!"
   ]
  },
  {
   "cell_type": "markdown",
   "metadata": {},
   "source": [
    "## The 1D Kalman Filter Cycle"
   ]
  },
  {
   "cell_type": "code",
   "execution_count": null,
   "metadata": {
    "jupyter": {
     "outputs_hidden": false
    }
   },
   "outputs": [],
   "source": [
    "positions = (10, 20, 30, 40, 50) + 2 * np.random.randn(5)  # e.g. GNSS\n",
    "distances = (10, 10, 10, 10, 10) + 2 * np.random.randn(5)  # Motion model"
   ]
  },
  {
   "cell_type": "code",
   "execution_count": null,
   "metadata": {
    "jupyter": {
     "outputs_hidden": false
    }
   },
   "outputs": [],
   "source": [
    "print(\"Positions: \", positions, \"\\n\")\n",
    "print(\"Distances: \", distances)"
   ]
  },
  {
   "cell_type": "code",
   "execution_count": null,
   "metadata": {
    "jupyter": {
     "outputs_hidden": false
    }
   },
   "outputs": [],
   "source": [
    "mean = mean0\n",
    "var = var0\n",
    "\n",
    "plt.figure(figsize=(18, 10))\n",
    "\n",
    "for m in range(len(positions)):\n",
    "\n",
    "    # Predict\n",
    "    var, mean = predict(var, mean, varMove, distances[m])\n",
    "    # print('mean: %.2f\\tvar:%.2f' % (mean, var))\n",
    "    plt.plot(x, stats.norm.pdf(x, mean, var), label=\"%i. step (Prediction)\" % (m + 1))\n",
    "\n",
    "    # Correct\n",
    "    var, mean = update(var, mean, varSensor, positions[m])\n",
    "    print(\"After correction:  mean= %.2f\\tvar= %.2f\" % (mean, var))\n",
    "    plt.plot(x, stats.norm.pdf(x, mean, var), label=\"%i. step (Correction)\" % (m + 1))\n",
    "\n",
    "plt.ylim(0, 0.225)\n",
    "plt.xlim(-20, 120)\n",
    "plt.ylabel(\"Probability\")\n",
    "plt.xlabel(\"x in m\")\n",
    "plt.legend()\n",
    "\n",
    "print(\"\")\n",
    "print(\"Adding odometry measurements: position estimate= %.2f\" % (sum(distances)))\n",
    "print(\"Last position measurement:    position estimate= %.2f\" % (positions[-1]))\n",
    "print(\"\")"
   ]
  },
  {
   "cell_type": "markdown",
   "metadata": {},
   "source": [
    "![Kalman Cycle](resources/KF_cycle.png) "
   ]
  },
  {
   "cell_type": "markdown",
   "metadata": {},
   "source": [
    "# Conclusion"
   ]
  },
  {
   "cell_type": "markdown",
   "metadata": {},
   "source": [
    "The sensors are represented as normal distributions with their parameters ($\\mu$ and $\\sigma^2$). \n",
    "The prediction increases the uncertainty about the state, the correction decreases the uncertainty.\n",
    "\n",
    "* Prediction: Unertainty $\\uparrow$\n",
    "* Correction: Uncertainty $\\downarrow$\n",
    "\n",
    "If you have more than one state (here: position), than you have to use the multidimensional Kalman Filter, which is pretty much the same, but with matrices."
   ]
  },
  {
   "cell_type": "markdown",
   "metadata": {},
   "source": [
    "\n",
    "<br>\n",
    "<br>\n",
    "<br>\n",
    "<br>\n",
    "<br>\n",
    "<br>\n",
    "<br>\n",
    "<br>\n",
    "<br>\n",
    "<br>\n",
    "\n",
    "# Acknowledgement\n",
    "\n",
    "https://github.com/balzer82/PyData-Berlin-2014-Kalman <br>\n",
    "https://github.com/rlabbe/Kalman-and-Bayesian-Filters-in-Python"
   ]
  }
 ],
 "metadata": {
  "kernelspec": {
   "display_name": "Python 3",
   "language": "python",
   "name": "python3"
  },
  "language_info": {
   "codemirror_mode": {
    "name": "ipython",
    "version": 3
   },
   "file_extension": ".py",
   "mimetype": "text/x-python",
   "name": "python",
   "nbconvert_exporter": "python",
   "pygments_lexer": "ipython3",
   "version": "3.8.8"
  }
 },
 "nbformat": 4,
 "nbformat_minor": 4
}
