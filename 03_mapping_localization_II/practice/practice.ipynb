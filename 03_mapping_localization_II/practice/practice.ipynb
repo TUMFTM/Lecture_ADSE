{
 "cells": [
  {
   "cell_type": "markdown",
   "metadata": {},
   "source": [
    "# The Extended Kalman Filter"
   ]
  },
  {
   "cell_type": "code",
   "execution_count": null,
   "metadata": {},
   "outputs": [],
   "source": [
    "%matplotlib inline"
   ]
  },
  {
   "cell_type": "code",
   "execution_count": null,
   "metadata": {},
   "outputs": [],
   "source": [
    "import numpy as np"
   ]
  },
  {
   "cell_type": "markdown",
   "metadata": {},
   "source": [
    "### Robot Motion Model\n",
    "\n",
    "At a first approximation an automobile steers by pivoting the front tires while moving forward. The front of the car moves in the direction that the wheels are pointing while pivoting around the rear tires. This simple description is complicated by issues such as slippage due to friction, the differing behavior of the rubber tires at different speeds, and the need for the outside tire to travel a different radius than the inner tire. Accurately modeling steering requires a complicated set of differential equations. \n",
    "\n",
    "For lower speed robotic applications a simpler *bicycle model* has been found to perform well. This is a depiction of the model:"
   ]
  },
  {
   "cell_type": "markdown",
   "metadata": {},
   "source": [
    "In the **Unscented Kalman Filter** chapter we derived these equations:\n",
    "\n",
    "$$\\begin{aligned} \n",
    "\\beta &= \\frac d w \\tan(\\alpha) \\\\\n",
    "x &= x - R\\sin(\\theta) + R\\sin(\\theta + \\beta) \\\\\n",
    "y &= y + R\\cos(\\theta) - R\\cos(\\theta + \\beta) \\\\\n",
    "\\theta &= \\theta + \\beta\n",
    "\\end{aligned}\n",
    "$$\n",
    "\n",
    "where $\\theta$ is the robot's heading.\n",
    "\n",
    "You do not need to understand this model in detail if you are not interested in steering models. The important thing to recognize is that our motion model is nonlinear, and we will need to deal with that with our Kalman filter."
   ]
  },
  {
   "cell_type": "markdown",
   "metadata": {},
   "source": [
    "### Design the State Variables\n",
    "\n",
    "For our filter we will maintain the position $x,y$ and orientation $\\theta$ of the robot:\n",
    "\n",
    "$$\\mathbf x = \\begin{bmatrix}x \\\\ y \\\\ \\theta\\end{bmatrix}$$\n",
    "\n",
    "Our control input $\\mathbf u$ is the velocity $v$ and steering angle $\\alpha$:\n",
    "\n",
    "$$\\mathbf u = \\begin{bmatrix}v \\\\ \\alpha\\end{bmatrix}$$"
   ]
  },
  {
   "cell_type": "markdown",
   "metadata": {},
   "source": [
    "### Design the System Model\n",
    "\n",
    "We model our system as a nonlinear motion model plus noise.\n",
    "\n",
    "$$\\bar x = f(x, u) + \\mathcal{N}(0, Q)$$\n",
    "\n",
    "\n",
    "\n",
    "Using the motion model for a robot that we created above, we can expand this to\n",
    "\n",
    "$$\\bar{\\begin{bmatrix}x\\\\y\\\\\\theta\\end{bmatrix}} = \\begin{bmatrix}x\\\\y\\\\\\theta\\end{bmatrix} + \n",
    "\\begin{bmatrix}- R\\sin(\\theta) + R\\sin(\\theta + \\beta) \\\\\n",
    "R\\cos(\\theta) - R\\cos(\\theta + \\beta) \\\\\n",
    "\\beta\\end{bmatrix}$$\n",
    "\n",
    "We find The $\\mathbf F$ by taking the Jacobian of $f(x,u)$.\n",
    "\n",
    "$$\\mathbf F = \\frac{\\partial f(x, u)}{\\partial x} =\\begin{bmatrix}\n",
    "\\frac{\\partial f_1}{\\partial x} & \n",
    "\\frac{\\partial f_1}{\\partial y} &\n",
    "\\frac{\\partial f_1}{\\partial \\theta}\\\\\n",
    "\\frac{\\partial f_2}{\\partial x} & \n",
    "\\frac{\\partial f_2}{\\partial y} &\n",
    "\\frac{\\partial f_2}{\\partial \\theta} \\\\\n",
    "\\frac{\\partial f_3}{\\partial x} & \n",
    "\\frac{\\partial f_3}{\\partial y} &\n",
    "\\frac{\\partial f_3}{\\partial \\theta}\n",
    "\\end{bmatrix}\n",
    "$$\n",
    "\n",
    "When we calculate these we get\n",
    "\n",
    "$$\\mathbf F = \\begin{bmatrix}\n",
    "1 & 0 & -R\\cos(\\theta) + R\\cos(\\theta+\\beta) \\\\\n",
    "0 & 1 & -R\\sin(\\theta) + R\\sin(\\theta+\\beta) \\\\\n",
    "0 & 0 & 1\n",
    "\\end{bmatrix}$$\n",
    "\n",
    "We can double check our work with SymPy."
   ]
  },
  {
   "cell_type": "code",
   "execution_count": null,
   "metadata": {
    "scrolled": true
   },
   "outputs": [],
   "source": [
    "import sympy\n",
    "from sympy.abc import alpha, x, y, v, w, R, theta\n",
    "from sympy import symbols, Matrix\n",
    "\n",
    "sympy.init_printing(use_latex=\"mathjax\", fontsize=\"16pt\")\n",
    "time = symbols(\"t\")\n",
    "d = v * time\n",
    "beta = (d / w) * sympy.tan(alpha)\n",
    "r = w / sympy.tan(alpha)\n",
    "\n",
    "fxu = Matrix(\n",
    "    [\n",
    "        [x - r * sympy.sin(theta) + r * sympy.sin(theta + beta)],\n",
    "        [y + r * sympy.cos(theta) - r * sympy.cos(theta + beta)],\n",
    "        [theta + beta],\n",
    "    ]\n",
    ")\n",
    "F = fxu.jacobian(Matrix([x, y, theta]))\n",
    "F"
   ]
  },
  {
   "cell_type": "markdown",
   "metadata": {},
   "source": [
    "That looks a bit complicated. We can use SymPy to substitute terms:"
   ]
  },
  {
   "cell_type": "code",
   "execution_count": null,
   "metadata": {},
   "outputs": [],
   "source": [
    "# reduce common expressions\n",
    "B, R = symbols(\"beta, R\")\n",
    "F = F.subs((d / w) * sympy.tan(alpha), B)\n",
    "F.subs(w / sympy.tan(alpha), R)"
   ]
  },
  {
   "cell_type": "markdown",
   "metadata": {},
   "source": [
    "This form  verifies that the computation of the Jacobian is correct.\n",
    "\n",
    "Now we can turn our attention to the noise. Here, the noise is in our control input, so it is in *control space*. In other words, we command a specific velocity and steering angle, but we need to convert that into errors in $x, y, \\theta$. In a real system this might vary depending on velocity, so it will need to be recomputed for every prediction. I will choose this as the noise model; for a real robot you will need to choose a model that accurately depicts the error in your system. \n",
    "\n",
    "$$\\mathbf{M} = \\begin{bmatrix}\\sigma_{vel}^2 & 0 \\\\ 0 & \\sigma_\\alpha^2\\end{bmatrix}$$\n",
    "\n",
    "If this was a linear problem we would convert from control space to state space using the by now familiar $\\mathbf{FMF}^\\mathsf T$ form. Since our motion model is nonlinear we do not try to find a closed form solution to this, but instead linearize it with a Jacobian which we will name $\\mathbf{V}$. \n",
    "\n",
    "$$\\mathbf{V} = \\frac{\\partial f(x, u)}{\\partial u} \\begin{bmatrix}\n",
    "\\frac{\\partial f_1}{\\partial v} & \\frac{\\partial f_1}{\\partial \\alpha} \\\\\n",
    "\\frac{\\partial f_2}{\\partial v} & \\frac{\\partial f_2}{\\partial \\alpha} \\\\\n",
    "\\frac{\\partial f_3}{\\partial v} & \\frac{\\partial f_3}{\\partial \\alpha}\n",
    "\\end{bmatrix}$$\n",
    "\n",
    "These partial derivatives become very difficult to work with. Let's compute them with SymPy. "
   ]
  },
  {
   "cell_type": "code",
   "execution_count": null,
   "metadata": {},
   "outputs": [],
   "source": [
    "V = fxu.jacobian(Matrix([v, alpha]))\n",
    "V = V.subs(sympy.tan(alpha) / w, 1 / R)\n",
    "V = V.subs(time * v / R, B)\n",
    "V = V.subs(time * v, \"d\")\n",
    "V"
   ]
  },
  {
   "cell_type": "markdown",
   "metadata": {},
   "source": [
    "This should give you an appreciation of how quickly the EKF become mathematically intractable. \n",
    "\n",
    "This gives us the final form of our prediction equations:\n",
    "\n",
    "$$\\begin{aligned}\n",
    "\\mathbf{\\bar x} &= \\mathbf x + \n",
    "\\begin{bmatrix}- R\\sin(\\theta) + R\\sin(\\theta + \\beta) \\\\\n",
    "R\\cos(\\theta) - R\\cos(\\theta + \\beta) \\\\\n",
    "\\beta\\end{bmatrix}\\\\\n",
    "\\mathbf{\\bar P} &=\\mathbf{FPF}^{\\mathsf T} + \\mathbf{VMV}^{\\mathsf T}\n",
    "\\end{aligned}$$\n",
    "\n",
    "This form of linearization is not the only way to predict $\\mathbf x$. For example, we could use a numerical integration technique such as *Runge Kutta* to compute the movement\n",
    "of the robot. This will be required if the time step is relatively large. Things are not as cut and dried with the EKF as for the Kalman filter. For a real problem you have to carefully model your system with differential equations and then determine the most appropriate way to solve that system. The correct approach depends on the accuracy you require, how nonlinear the equations are, your processor budget, and numerical stability concerns."
   ]
  },
  {
   "cell_type": "markdown",
   "metadata": {},
   "source": [
    "### Design the Measurement Model\n",
    "\n",
    "The robot's sensor provides a noisy bearing and range measurement to multiple known locations in the landscape. The measurement model must convert the state $\\begin{bmatrix}x & y&\\theta\\end{bmatrix}^\\mathsf T$ into a range and bearing to the landmark. If $\\mathbf p$ \n",
    "is the position of a landmark, the range $r$ is\n",
    "\n",
    "$$r = \\sqrt{(p_x - x)^2 + (p_y - y)^2}$$\n",
    "\n",
    "The sensor provides bearing relative to the orientation of the robot, so we must subtract the robot's orientation from the bearing to get the sensor reading, like so:\n",
    "\n",
    "$$\\phi = \\arctan(\\frac{p_y - y}{p_x - x}) - \\theta$$\n",
    "\n",
    "\n",
    "Thus our measurement model $h$ is\n",
    "\n",
    "\n",
    "$$\\begin{aligned}\n",
    "\\mathbf z& = h(\\bar{\\mathbf x}, \\mathbf p) &+ \\mathcal{N}(0, R)\\\\\n",
    "&= \\begin{bmatrix}\n",
    "\\sqrt{(p_x - x)^2 + (p_y - y)^2} \\\\\n",
    "\\arctan(\\frac{p_y - y}{p_x - x}) - \\theta \n",
    "\\end{bmatrix} &+ \\mathcal{N}(0, R)\n",
    "\\end{aligned}$$\n",
    "\n",
    "This is clearly nonlinear, so we need linearize $h$  at $\\mathbf x$ by taking its Jacobian. We compute that with SymPy below."
   ]
  },
  {
   "cell_type": "code",
   "execution_count": null,
   "metadata": {},
   "outputs": [],
   "source": [
    "px, py = symbols(\"p_x, p_y\")\n",
    "z = Matrix(\n",
    "    [[sympy.sqrt((px - x) ** 2 + (py - y) ** 2)], [sympy.atan2(py - y, px - x) - theta]]\n",
    ")\n",
    "z.jacobian(Matrix([x, y, theta]))"
   ]
  },
  {
   "cell_type": "markdown",
   "metadata": {},
   "source": [
    "Now we need to write that as a Python function. For example we might write:"
   ]
  },
  {
   "cell_type": "code",
   "execution_count": null,
   "metadata": {},
   "outputs": [],
   "source": [
    "from math import sqrt\n",
    "\n",
    "\n",
    "def H_of(x, landmark_pos):\n",
    "    \"\"\" compute Jacobian of H matrix where h(x) computes \n",
    "    the range and bearing to a landmark for state x \"\"\"\n",
    "\n",
    "    px = landmark_pos[0]\n",
    "    py = landmark_pos[1]\n",
    "    hyp = (px - x[0, 0]) ** 2 + (py - x[1, 0]) ** 2\n",
    "    dist = sqrt(hyp)\n",
    "\n",
    "    H = array(\n",
    "        [\n",
    "            [-(px - x[0, 0]) / dist, -(py - x[1, 0]) / dist, 0],\n",
    "            [(py - x[1, 0]) / hyp, -(px - x[0, 0]) / hyp, -1],\n",
    "        ]\n",
    "    )\n",
    "    return H"
   ]
  },
  {
   "cell_type": "markdown",
   "metadata": {},
   "source": [
    "We also need to define a function that converts the system state into a measurement."
   ]
  },
  {
   "cell_type": "code",
   "execution_count": null,
   "metadata": {},
   "outputs": [],
   "source": [
    "from math import atan2\n",
    "\n",
    "\n",
    "def Hx(x, landmark_pos):\n",
    "    \"\"\" takes a state variable and returns the measurement\n",
    "    that would correspond to that state.\n",
    "    \"\"\"\n",
    "    px = landmark_pos[0]\n",
    "    py = landmark_pos[1]\n",
    "    dist = sqrt((px - x[0, 0]) ** 2 + (py - x[1, 0]) ** 2)\n",
    "\n",
    "    Hx = array([[dist], [atan2(py - x[1, 0], px - x[0, 0]) - x[2, 0]]])\n",
    "    return Hx"
   ]
  },
  {
   "cell_type": "markdown",
   "metadata": {},
   "source": [
    "### Design Measurement Noise\n",
    "\n",
    "It is reasonable to assume that the noise of the range and bearing measurements are independent, hence\n",
    "\n",
    "$$\\mathbf R=\\begin{bmatrix}\\sigma_{range}^2 & 0 \\\\ 0 & \\sigma_{bearing}^2\\end{bmatrix}$$"
   ]
  },
  {
   "cell_type": "markdown",
   "metadata": {},
   "source": [
    "### Implementation\n",
    "\n",
    "We will use `FilterPy`'s `ExtendedKalmanFilter` class to implement the filter. Its `predict()` method uses the standard linear equations for the process model. Ours is nonlinear, so we will have to override `predict()` with our own implementation.  I'll want to also use this class to simulate the robot, so I'll add a method `move()` that computes the position of the robot which both `predict()` and my simulation can call.\n",
    "\n",
    "The matrices for the prediction step are quite large. While writing this code I made several errors before I finally got it working. I only found my errors by using SymPy's `evalf` function. `evalf` evaluates a SymPy `Matrix` with specific values for the variables. I decided to demonstrate this technique to you, and used `evalf` in the Kalman filter code. You'll need to understand a couple of points.\n",
    "\n",
    "First, `evalf` uses a dictionary to specify the values. For example, if your matrix contains an `x` and `y`, you can write\n",
    "\n",
    "```python\n",
    "    M.evalf(subs={x:3, y:17})\n",
    "```\n",
    "    \n",
    "to evaluate the matrix for `x=3` and `y=17`. \n",
    "\n",
    "Second, `evalf` returns a `sympy.Matrix` object. Use `numpy.array(M).astype(float)` to convert it to a NumPy array. `numpy.array(M)` creates an array of  type `object`, which is not what you want.\n",
    "\n",
    "Here is the code for the EKF:"
   ]
  },
  {
   "cell_type": "code",
   "execution_count": null,
   "metadata": {},
   "outputs": [],
   "source": [
    "from filterpy.kalman import ExtendedKalmanFilter as EKF\n",
    "from numpy import array, sqrt\n",
    "\n",
    "\n",
    "class RobotEKF(EKF):\n",
    "    def __init__(self, dt, wheelbase, std_vel, std_steer):\n",
    "        EKF.__init__(self, 3, 2, 2)\n",
    "        self.dt = dt\n",
    "        self.wheelbase = wheelbase\n",
    "        self.std_vel = std_vel\n",
    "        self.std_steer = std_steer\n",
    "\n",
    "        a, x, y, v, w, theta, time = symbols(\"a, x, y, v, w, theta, t\")\n",
    "        d = v * time\n",
    "        beta = (d / w) * sympy.tan(a)\n",
    "        r = w / sympy.tan(a)\n",
    "\n",
    "        self.fxu = Matrix(\n",
    "            [\n",
    "                [x - r * sympy.sin(theta) + r * sympy.sin(theta + beta)],\n",
    "                [y + r * sympy.cos(theta) - r * sympy.cos(theta + beta)],\n",
    "                [theta + beta],\n",
    "            ]\n",
    "        )\n",
    "\n",
    "        self.F_j = self.fxu.jacobian(Matrix([x, y, theta]))\n",
    "        self.V_j = self.fxu.jacobian(Matrix([v, a]))\n",
    "\n",
    "        # save dictionary and it's variables for later use\n",
    "        self.subs = {x: 0, y: 0, v: 0, a: 0, time: dt, w: wheelbase, theta: 0}\n",
    "        self.x_x, self.x_y, = x, y\n",
    "        self.v, self.a, self.theta = v, a, theta\n",
    "\n",
    "    def predict(self, u):\n",
    "        self.x = self.move(self.x, u, self.dt)\n",
    "\n",
    "        self.subs[self.theta] = self.x[2, 0]\n",
    "        self.subs[self.v] = u[0]\n",
    "        self.subs[self.a] = u[1]\n",
    "\n",
    "        F = array(self.F_j.evalf(subs=self.subs)).astype(float)\n",
    "        V = array(self.V_j.evalf(subs=self.subs)).astype(float)\n",
    "\n",
    "        # covariance of motion noise in control space\n",
    "        M = array([[self.std_vel * u[0] ** 2, 0], [0, self.std_steer ** 2]])\n",
    "\n",
    "        self.P = F @ self.P @ F.T + V @ M @ V.T\n",
    "\n",
    "    def move(self, x, u, dt):\n",
    "        hdg = x[2, 0]\n",
    "        vel = u[0]\n",
    "        steering_angle = u[1]\n",
    "        dist = vel * dt\n",
    "\n",
    "        if abs(steering_angle) > 0.001:  # is robot turning?\n",
    "            beta = (dist / self.wheelbase) * tan(steering_angle)\n",
    "            r = self.wheelbase / tan(steering_angle)  # radius\n",
    "\n",
    "            dx = np.array(\n",
    "                [\n",
    "                    [-r * sin(hdg) + r * sin(hdg + beta)],\n",
    "                    [r * cos(hdg) - r * cos(hdg + beta)],\n",
    "                    [beta],\n",
    "                ]\n",
    "            )\n",
    "        else:  # moving in straight line\n",
    "            dx = np.array([[dist * cos(hdg)], [dist * sin(hdg)], [0]])\n",
    "        return x + dx"
   ]
  },
  {
   "cell_type": "markdown",
   "metadata": {},
   "source": [
    "Now we have another issue to handle. The residual is notionally computed as $y = z - h(x)$ but this will not work because our measurement contains an angle in it. Suppose z has a bearing of $1^\\circ$ and $h(x)$ has a bearing of $359^\\circ$. Naively subtracting them would yield a angular difference of $-358^\\circ$, whereas the correct value is $2^\\circ$. We have to write code to correctly compute the bearing residual."
   ]
  },
  {
   "cell_type": "code",
   "execution_count": null,
   "metadata": {},
   "outputs": [],
   "source": [
    "def residual(a, b):\n",
    "    \"\"\" compute residual (a-b) between measurements containing \n",
    "    [range, bearing]. Bearing is normalized to [-pi, pi)\"\"\"\n",
    "    y = a - b\n",
    "    y[1] = y[1] % (2 * np.pi)  # force in range [0, 2 pi)\n",
    "    if y[1] > np.pi:  # move to [-pi, pi)\n",
    "        y[1] -= 2 * np.pi\n",
    "    return y"
   ]
  },
  {
   "cell_type": "code",
   "execution_count": null,
   "metadata": {
    "scrolled": true
   },
   "outputs": [],
   "source": [
    "from filterpy.stats import plot_covariance_ellipse\n",
    "from math import sqrt, tan, cos, sin, atan2\n",
    "import matplotlib.pyplot as plt\n",
    "\n",
    "dt = 1.0\n",
    "\n",
    "\n",
    "def z_landmark(lmark, sim_pos, std_rng, std_brg):\n",
    "    x, y = sim_pos[0, 0], sim_pos[1, 0]\n",
    "    d = np.sqrt((lmark[0] - x) ** 2 + (lmark[1] - y) ** 2)\n",
    "    a = atan2(lmark[1] - y, lmark[0] - x) - sim_pos[2, 0]\n",
    "    z = np.array([[d + np.random.randn() * std_rng], [a + np.random.randn() * std_brg]])\n",
    "    return z\n",
    "\n",
    "\n",
    "def ekf_update(ekf, z, landmark):\n",
    "    ekf.update(\n",
    "        z, HJacobian=H_of, Hx=Hx, residual=residual, args=(landmark), hx_args=(landmark)\n",
    "    )\n",
    "\n",
    "\n",
    "def run_localization(\n",
    "    landmarks,\n",
    "    std_vel,\n",
    "    std_steer,\n",
    "    std_range,\n",
    "    std_bearing,\n",
    "    step=10,\n",
    "    ellipse_step=20,\n",
    "    ylim=None,\n",
    "):\n",
    "    ekf = RobotEKF(dt, wheelbase=0.5, std_vel=std_vel, std_steer=std_steer)\n",
    "    ekf.x = array([[2, 6, 0.3]]).T  # x, y, steer angle\n",
    "    ekf.P = np.diag([0.1, 0.1, 0.1])\n",
    "    ekf.R = np.diag([std_range ** 2, std_bearing ** 2])\n",
    "\n",
    "    sim_pos = ekf.x.copy()  # simulated position\n",
    "    # steering command (vel, steering angle radians)\n",
    "    u = array([1.1, 0.01])\n",
    "\n",
    "    plt.figure()\n",
    "    plt.scatter(landmarks[:, 0], landmarks[:, 1], marker=\"s\", s=60)\n",
    "\n",
    "    track = []\n",
    "    for i in range(200):\n",
    "        sim_pos = ekf.move(sim_pos, u, dt / 10.0)  # simulate robot\n",
    "        track.append(sim_pos)\n",
    "\n",
    "        if i % step == 0:\n",
    "            ekf.predict(u=u)\n",
    "\n",
    "            if i % ellipse_step == 0:\n",
    "                plot_covariance_ellipse(\n",
    "                    (ekf.x[0, 0], ekf.x[1, 0]),\n",
    "                    ekf.P[0:2, 0:2],\n",
    "                    std=6,\n",
    "                    facecolor=\"k\",\n",
    "                    alpha=0.3,\n",
    "                )\n",
    "\n",
    "            x, y = sim_pos[0, 0], sim_pos[1, 0]\n",
    "            for lmark in landmarks:\n",
    "                z = z_landmark(lmark, sim_pos, std_range, std_bearing)\n",
    "                ekf_update(ekf, z, lmark)\n",
    "\n",
    "            if i % ellipse_step == 0:\n",
    "                plot_covariance_ellipse(\n",
    "                    (ekf.x[0, 0], ekf.x[1, 0]),\n",
    "                    ekf.P[0:2, 0:2],\n",
    "                    std=6,\n",
    "                    facecolor=\"g\",\n",
    "                    alpha=0.8,\n",
    "                )\n",
    "    track = np.array(track)\n",
    "    plt.plot(track[:, 0], track[:, 1], color=\"k\", lw=2)\n",
    "    plt.axis(\"equal\")\n",
    "    plt.title(\"EKF Robot localization\")\n",
    "    if ylim is not None:\n",
    "        plt.ylim(*ylim)\n",
    "    plt.show()\n",
    "    return ekf"
   ]
  },
  {
   "cell_type": "code",
   "execution_count": null,
   "metadata": {},
   "outputs": [],
   "source": [
    "landmarks = array([[5, 10], [10, 5], [15, 15]])\n",
    "\n",
    "ekf = run_localization(\n",
    "    landmarks, std_vel=0.1, std_steer=np.radians(1), std_range=0.3, std_bearing=0.1\n",
    ")\n",
    "print(\"Final P:\", ekf.P.diagonal())"
   ]
  },
  {
   "cell_type": "markdown",
   "metadata": {},
   "source": [
    "I have plotted the landmarks as solid squares. The path of the robot is drawn with a black line. The covariance ellipses for the predict step are light gray, and the covariances of the update are shown in green. To make them visible at this scale I have set the ellipse boundary at 6$\\sigma$.\n",
    "\n",
    "We can see that there is a lot of uncertainty added by our motion model, and that most of the error in in the direction of motion. We determine that from the shape of the blue ellipses. After a few steps we can see that the filter incorporates the landmark measurements and the errors improve.\n",
    "\n",
    "I used the same initial conditions and landmark locations in the UKF chapter. The UKF achieves much better accuracy in terms of the error ellipse. Both perform roughly as well as far as their estimate for $\\mathbf x$ is concerned. \n",
    "\n",
    "Now let's add another landmark."
   ]
  },
  {
   "cell_type": "code",
   "execution_count": null,
   "metadata": {},
   "outputs": [],
   "source": [
    "landmarks = array([[5, 10], [10, 5], [15, 15], [20, 5]])\n",
    "\n",
    "ekf = run_localization(\n",
    "    landmarks, std_vel=0.1, std_steer=np.radians(1), std_range=0.3, std_bearing=0.1\n",
    ")\n",
    "plt.show()\n",
    "print(\"Final P:\", ekf.P.diagonal())"
   ]
  },
  {
   "cell_type": "markdown",
   "metadata": {},
   "source": [
    "The uncertainly in the estimates near the end of the track are smaller.  We can see the effect that multiple landmarks have on our uncertainty by only using the first two landmarks."
   ]
  },
  {
   "cell_type": "code",
   "execution_count": null,
   "metadata": {},
   "outputs": [],
   "source": [
    "ekf = run_localization(\n",
    "    landmarks[0:2], std_vel=1.0e-10, std_steer=1.0e-10, std_range=1.4, std_bearing=0.05\n",
    ")\n",
    "print(\"Final P:\", ekf.P.diagonal())"
   ]
  },
  {
   "cell_type": "markdown",
   "metadata": {},
   "source": [
    "The estimate quickly diverges from the robot's path after passing the landmarks. The covariance also grows quickly. Let's see what happens with only one landmark:"
   ]
  },
  {
   "cell_type": "code",
   "execution_count": null,
   "metadata": {},
   "outputs": [],
   "source": [
    "ekf = run_localization(\n",
    "    landmarks[0:1], std_vel=1.0e-10, std_steer=1.0e-10, std_range=1.4, std_bearing=0.05\n",
    ")\n",
    "print(\"Final P:\", ekf.P.diagonal())"
   ]
  },
  {
   "cell_type": "markdown",
   "metadata": {},
   "source": [
    "As you probably suspected, one landmark produces a very bad result. Conversely, a large number of landmarks allows us to make very accurate estimates."
   ]
  },
  {
   "cell_type": "code",
   "execution_count": null,
   "metadata": {},
   "outputs": [],
   "source": [
    "landmarks = array(\n",
    "    [\n",
    "        [5, 10],\n",
    "        [10, 5],\n",
    "        [15, 15],\n",
    "        [20, 5],\n",
    "        [15, 10],\n",
    "        [10, 14],\n",
    "        [23, 14],\n",
    "        [25, 20],\n",
    "        [10, 20],\n",
    "    ]\n",
    ")\n",
    "\n",
    "ekf = run_localization(\n",
    "    landmarks,\n",
    "    std_vel=0.1,\n",
    "    std_steer=np.radians(1),\n",
    "    std_range=0.3,\n",
    "    std_bearing=0.1,\n",
    "    ylim=(0, 21),\n",
    ")\n",
    "print(\"Final P:\", ekf.P.diagonal())"
   ]
  }
 ],
 "metadata": {
  "anaconda-cloud": {},
  "kernelspec": {
   "display_name": "Python 3",
   "language": "python",
   "name": "python3"
  },
  "language_info": {
   "codemirror_mode": {
    "name": "ipython",
    "version": 3
   },
   "file_extension": ".py",
   "mimetype": "text/x-python",
   "name": "python",
   "nbconvert_exporter": "python",
   "pygments_lexer": "ipython3",
   "version": "3.8.8"
  }
 },
 "nbformat": 4,
 "nbformat_minor": 4
}
