{
 "cells": [
  {
   "cell_type": "markdown",
   "id": "union-syria",
   "metadata": {},
   "source": [
    "# Exercise 7 - Local Trajectory Planning"
   ]
  },
  {
   "cell_type": "code",
   "execution_count": null,
   "id": "sixth-cincinnati",
   "metadata": {},
   "outputs": [],
   "source": [
    "import numpy as np\n",
    "from global_settings import get_params\n",
    "from reference_path import ReferencePath\n",
    "from trajectory import Trajectory, LateralCurve, LongitudinalCurve\n",
    "from util import (\n",
    "    transform_state_cartesian_to_frenet,\n",
    "    transform_obstacles_frenet_to_cartesian,\n",
    "    check_trajectories,\n",
    "    ideal_tracking,\n",
    ")\n",
    "from frenet_vizualization import visualize\n",
    "import operator\n",
    "\n",
    "%matplotlib"
   ]
  },
  {
   "cell_type": "markdown",
   "id": "critical-dryer",
   "metadata": {},
   "source": [
    "### Step Function\n",
    "Generate a set of trajectories and choose the best valid one."
   ]
  },
  {
   "cell_type": "code",
   "execution_count": null,
   "id": "annoying-princeton",
   "metadata": {},
   "outputs": [],
   "source": [
    "def step(state: dict, reference_path: ReferencePath, params: dict) -> tuple:\n",
    "    \"\"\"Generation of a trajectory\n",
    "\n",
    "    :param state: current state of vehicle in frénet coordinates\n",
    "    :type: dict\n",
    "    :param reference_path: reference path\n",
    "    :type: ReferencePath\n",
    "    :param params: dictionary containing all parameters\n",
    "    :type: dict\n",
    "    :return: optimal trajectory, i.e. trajectory with lowest cost\n",
    "    :rtype: Trajectory\n",
    "    :return: dictionary containing all generated trajectories of this time step\n",
    "    :rtype: dict\"\"\"\n",
    "\n",
    "    # lists of curves and trajectories\n",
    "    longitudinal_curves = []\n",
    "    lateral_curves = []\n",
    "    trajectories = []\n",
    "\n",
    "    ###################################################################################\n",
    "    ######################## Insert generation of trajectories ########################\n",
    "    ###################################################################################\n",
    "\n",
    "    # sort trajectories according to the cost associated with each trajectory\n",
    "    trajectories = sorted(trajectories, key=operator.attrgetter(\"cost\"))\n",
    "\n",
    "    # check trajectories for validity and sort into valid and invalid\n",
    "    trajectories = check_trajectories(trajectories=trajectories, parameters=params)\n",
    "\n",
    "    # extract best trajectory (valid trajectory with lowest cost)\n",
    "    optimal_trajectory = trajectories[\"valid\"][0]\n",
    "\n",
    "    return optimal_trajectory, trajectories"
   ]
  },
  {
   "cell_type": "markdown",
   "id": "portuguese-turkish",
   "metadata": {},
   "source": [
    "### Import parameters from params.ini and generate a ReferencePath object"
   ]
  },
  {
   "cell_type": "code",
   "execution_count": null,
   "id": "adopted-alias",
   "metadata": {},
   "outputs": [],
   "source": [
    "# get parameters from params.ini as dictionary\n",
    "params = get_params()\n",
    "\n",
    "# generate reference path\n",
    "reference_path = ReferencePath(xy_waypoints=params[\"xy_waypoints\"])\n",
    "\n",
    "# calculate cartesian coordinates of obstacles and add to parameter dictionary\n",
    "xy_obstacles = transform_obstacles_frenet_to_cartesian(\n",
    "    reference_path=reference_path, sd_obstacles=params[\"sd_obstacles\"]\n",
    ")\n",
    "params[\"xy_obstacles\"] = xy_obstacles"
   ]
  },
  {
   "cell_type": "markdown",
   "id": "british-pavilion",
   "metadata": {},
   "source": [
    "### Set initial state in frénet coordinates"
   ]
  },
  {
   "cell_type": "code",
   "execution_count": null,
   "id": "noble-prague",
   "metadata": {},
   "outputs": [],
   "source": [
    "# get initial cartesian state from parameter file\n",
    "initial_cartesian_state = params[\"initial_state\"]\n",
    "\n",
    "# transform initial state from cartesian to frenét coordinate system\n",
    "frenet_state = transform_state_cartesian_to_frenet(\n",
    "    cartesian_state=initial_cartesian_state, reference_path=reference_path\n",
    ")"
   ]
  },
  {
   "cell_type": "markdown",
   "id": "peripheral-reducing",
   "metadata": {},
   "source": [
    "### Main loop for Local Planning"
   ]
  },
  {
   "cell_type": "code",
   "execution_count": null,
   "id": "mobile-wilson",
   "metadata": {},
   "outputs": [],
   "source": [
    "# number of steps\n",
    "step_counter = 0\n",
    "\n",
    "# dictionary to store all trajectories of every time step for the visualization\n",
    "trajectories_over_time = dict()\n",
    "\n",
    "# maximum progress s per step\n",
    "max_s_progress_per_step = params[\"discretization\"][\"t_max\"] * params[\"limits\"][\"v_max\"]\n",
    "\n",
    "# main loop\n",
    "while frenet_state[\"s\"] < reference_path.s_rp[-1] - max_s_progress_per_step:\n",
    "\n",
    "    ####################################################################################\n",
    "    ######################### Insert planning and control step #########################\n",
    "    ####################################################################################\n",
    "\n",
    "    # store trajectories of this time step in dictionary containing trajectories of all time steps for visualization\n",
    "    trajectories_over_time[step_counter] = trajectories\n",
    "\n",
    "    # print current progress every 20 steps\n",
    "    if not step_counter % 20:\n",
    "        progress = min(\n",
    "            100\n",
    "            * frenet_state[\"s\"]\n",
    "            / (reference_path.s_rp[-1] - max_s_progress_per_step),\n",
    "            100,\n",
    "        )\n",
    "        print(f\"Current progress {int(progress)} %\")\n",
    "\n",
    "    step_counter += 1"
   ]
  },
  {
   "cell_type": "markdown",
   "id": "cellular-lucas",
   "metadata": {},
   "source": [
    "### Visualization of Local Planning"
   ]
  },
  {
   "cell_type": "code",
   "execution_count": null,
   "id": "tamil-technique",
   "metadata": {},
   "outputs": [],
   "source": [
    "# visualize trajectories of all steps\n",
    "visualize(\n",
    "    trajectories_over_time=trajectories_over_time,\n",
    "    reference_path=reference_path,\n",
    "    params=params,\n",
    ")"
   ]
  }
 ],
 "metadata": {
  "kernelspec": {
   "display_name": "Python 3",
   "language": "python",
   "name": "python3"
  },
  "language_info": {
   "codemirror_mode": {
    "name": "ipython",
    "version": 3
   },
   "file_extension": ".py",
   "mimetype": "text/x-python",
   "name": "python",
   "nbconvert_exporter": "python",
   "pygments_lexer": "ipython3",
   "version": "3.8.8"
  }
 },
 "nbformat": 4,
 "nbformat_minor": 5
}
