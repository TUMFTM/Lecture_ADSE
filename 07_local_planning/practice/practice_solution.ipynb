{
 "cells": [
  {
   "cell_type": "markdown",
   "id": "union-syria",
   "metadata": {},
   "source": [
    "# Exercise 7 - Local Trajectory Planning"
   ]
  },
  {
   "cell_type": "code",
   "execution_count": 1,
   "id": "sixth-cincinnati",
   "metadata": {},
   "outputs": [
    {
     "name": "stdout",
     "output_type": "stream",
     "text": [
      "Using matplotlib backend: Qt5Agg\n"
     ]
    }
   ],
   "source": [
    "import numpy as np\n",
    "from global_settings import get_params\n",
    "from reference_path import ReferencePath\n",
    "from trajectory import Trajectory, LateralCurve, LongitudinalCurve\n",
    "from util import (\n",
    "    transform_state_cartesian_to_frenet,\n",
    "    transform_obstacles_frenet_to_cartesian,\n",
    "    check_trajectories,\n",
    "    ideal_tracking,\n",
    ")\n",
    "from frenet_vizualization import visualize\n",
    "import operator\n",
    "\n",
    "%matplotlib"
   ]
  },
  {
   "cell_type": "markdown",
   "id": "critical-dryer",
   "metadata": {},
   "source": [
    "### Step Function\n",
    "Generate a set of trajectories and choose the best valid one."
   ]
  },
  {
   "cell_type": "code",
   "execution_count": 2,
   "id": "annoying-princeton",
   "metadata": {},
   "outputs": [],
   "source": [
    "def step(state: dict, reference_path: ReferencePath, params: dict) -> tuple:\n",
    "    \"\"\"Generation of a trajectory\n",
    "\n",
    "    :param state: current state of vehicle in frénet coordinates\n",
    "    :type: dict\n",
    "    :param reference_path: reference path\n",
    "    :type: ReferencePath\n",
    "    :param params: dictionary containing all parameters\n",
    "    :type: dict\n",
    "    :return: optimal trajectory, i.e. trajectory with lowest cost\n",
    "    :rtype: Trajectory\n",
    "    :return: dictionary containing all generated trajectories of this time step\n",
    "    :rtype: dict\"\"\"\n",
    "\n",
    "    # lists of curves and trajectories\n",
    "    longitudinal_curves = []\n",
    "    lateral_curves = []\n",
    "    trajectories = []\n",
    "\n",
    "    # loop over several end times\n",
    "    for t_end in np.linspace(\n",
    "        start=params[\"discretization\"][\"t_min\"],\n",
    "        stop=params[\"discretization\"][\"t_max\"],\n",
    "        num=params[\"discretization\"][\"num_t\"],\n",
    "    ):\n",
    "\n",
    "        # sample time\n",
    "        t_array = np.linspace(\n",
    "            start=0, stop=t_end, num=params[\"discretization\"][\"sampling_points\"]\n",
    "        )\n",
    "\n",
    "        # loop over several longitudinal end velocities\n",
    "        for s_dot_end in np.linspace(\n",
    "            start=params[\"discretization\"][\"s_dot_min\"],\n",
    "            stop=params[\"discretization\"][\"s_dot_max\"],\n",
    "            num=params[\"discretization\"][\"num_s_dot\"],\n",
    "        ):\n",
    "\n",
    "            # calculate longitudinal curve\n",
    "            longitudinal_curve = LongitudinalCurve(\n",
    "                s_start=state[\"s\"],\n",
    "                s_dot_start=state[\"s_dot\"],\n",
    "                s_ddot_start=state[\"s_ddot\"],\n",
    "                s_dot_end=s_dot_end,\n",
    "                s_ddot_end=0,\n",
    "                t_array=t_array,\n",
    "            )\n",
    "\n",
    "            # add longitudinal curve to longitudinal curves list\n",
    "            longitudinal_curves.append(longitudinal_curve)\n",
    "\n",
    "        # loop over several lateral end positions\n",
    "        for d_end in np.linspace(\n",
    "            start=params[\"discretization\"][\"d_min\"],\n",
    "            stop=params[\"discretization\"][\"d_max\"],\n",
    "            num=params[\"discretization\"][\"num_d\"],\n",
    "        ):\n",
    "\n",
    "            # calculate lateral curve\n",
    "            lateral_curve = LateralCurve(\n",
    "                d_start=state[\"d\"],\n",
    "                d_dot_start=state[\"d_dot\"],\n",
    "                d_ddot_start=state[\"d_ddot\"],\n",
    "                d_end=d_end,\n",
    "                d_dot_end=0,\n",
    "                d_ddot_end=0,\n",
    "                t_array=t_array,\n",
    "            )\n",
    "\n",
    "            # add lateral curve to lateral curves list\n",
    "            lateral_curves.append(lateral_curve)\n",
    "\n",
    "        # combine set of longitudinal and lateral curves\n",
    "        for longitudinal_curve in longitudinal_curves:\n",
    "            for lateral_curve in lateral_curves:\n",
    "\n",
    "                # calculate trajectory\n",
    "                trajectory = Trajectory(\n",
    "                    longitudinal_curve=longitudinal_curve,\n",
    "                    lateral_curve=lateral_curve,\n",
    "                    t_array=t_array,\n",
    "                    cost_coefficients=params[\"cost_coefficients\"],\n",
    "                    s_dot_desired=params[\"discretization\"][\"s_dot_desired\"],\n",
    "                )\n",
    "\n",
    "                # transform trajectory from frenét to cartesian coordinate system\n",
    "                trajectory.transform_frenet_to_cartesian(reference_path=reference_path)\n",
    "\n",
    "                # add trajectory to trajectories list\n",
    "                trajectories.append(trajectory)\n",
    "\n",
    "    # sort trajectories according to the cost associated with each trajectory\n",
    "    trajectories = sorted(trajectories, key=operator.attrgetter(\"cost\"))\n",
    "\n",
    "    # check trajectories for validity and sort into valid and invalid\n",
    "    trajectories = check_trajectories(trajectories=trajectories, parameters=params)\n",
    "\n",
    "    # extract best trajectory (valid trajectory with lowest cost)\n",
    "    optimal_trajectory = trajectories[\"valid\"][0]\n",
    "\n",
    "    return optimal_trajectory, trajectories"
   ]
  },
  {
   "cell_type": "markdown",
   "id": "portuguese-turkish",
   "metadata": {},
   "source": [
    "### Import parameters from params.ini and generate a ReferencePath object"
   ]
  },
  {
   "cell_type": "code",
   "execution_count": 3,
   "id": "adopted-alias",
   "metadata": {},
   "outputs": [],
   "source": [
    "# get parameters from params.ini as dictionary\n",
    "params = get_params()\n",
    "\n",
    "# generate reference path\n",
    "reference_path = ReferencePath(xy_waypoints=params[\"xy_waypoints\"])\n",
    "\n",
    "# calculate cartesian coordinates of obstacles and add to parameter dictionary\n",
    "xy_obstacles = transform_obstacles_frenet_to_cartesian(\n",
    "    reference_path=reference_path, sd_obstacles=params[\"sd_obstacles\"]\n",
    ")\n",
    "params[\"xy_obstacles\"] = xy_obstacles"
   ]
  },
  {
   "cell_type": "markdown",
   "id": "british-pavilion",
   "metadata": {},
   "source": [
    "### Set initial state in frénet coordinates"
   ]
  },
  {
   "cell_type": "code",
   "execution_count": 4,
   "id": "noble-prague",
   "metadata": {},
   "outputs": [],
   "source": [
    "# get initial cartesian state from parameter file\n",
    "initial_cartesian_state = params[\"initial_state\"]\n",
    "\n",
    "# transform initial state from cartesian to frenét coordinate system\n",
    "frenet_state = transform_state_cartesian_to_frenet(\n",
    "    cartesian_state=initial_cartesian_state, reference_path=reference_path\n",
    ")"
   ]
  },
  {
   "cell_type": "markdown",
   "id": "peripheral-reducing",
   "metadata": {},
   "source": [
    "### Main loop"
   ]
  },
  {
   "cell_type": "code",
   "execution_count": 5,
   "id": "mobile-wilson",
   "metadata": {},
   "outputs": [
    {
     "name": "stdout",
     "output_type": "stream",
     "text": [
      "Current progress 2 %\n",
      "Current progress 6 %\n",
      "Current progress 12 %\n",
      "Current progress 19 %\n",
      "Current progress 25 %\n",
      "Current progress 32 %\n",
      "Current progress 39 %\n",
      "Current progress 46 %\n",
      "Current progress 53 %\n",
      "Current progress 60 %\n",
      "Current progress 67 %\n",
      "Current progress 74 %\n",
      "Current progress 82 %\n",
      "Current progress 89 %\n",
      "Current progress 96 %\n"
     ]
    }
   ],
   "source": [
    "# number of steps\n",
    "step_counter = 0\n",
    "\n",
    "# dictionary to store all trajectories of every time step for the visualization\n",
    "trajectories_over_time = dict()\n",
    "\n",
    "# maximum progress s per step\n",
    "max_s_progress_per_step = params[\"discretization\"][\"t_max\"] * params[\"limits\"][\"v_max\"]\n",
    "\n",
    "# main loop\n",
    "while frenet_state[\"s\"] < reference_path.s_rp[-1] - max_s_progress_per_step:\n",
    "\n",
    "    # do one planning step\n",
    "    optimal_trajectory, trajectories = step(\n",
    "        state=frenet_state, reference_path=reference_path, params=params\n",
    "    )\n",
    "\n",
    "    # project along optimal trajectory according to calculation time (ideal tracking)\n",
    "    frenet_state = ideal_tracking(\n",
    "        trajectory=optimal_trajectory, time=params[\"discretization\"][\"fixed_calc_time\"]\n",
    "    )\n",
    "\n",
    "    # store trajectories of this time step in dictionary containing trajectories of all time steps for visualization\n",
    "    trajectories_over_time[step_counter] = trajectories\n",
    "\n",
    "    # print current progress every 20 steps\n",
    "    if not step_counter % 20:\n",
    "        progress = min(\n",
    "            100\n",
    "            * frenet_state[\"s\"]\n",
    "            / (reference_path.s_rp[-1] - max_s_progress_per_step),\n",
    "            100,\n",
    "        )\n",
    "        print(f\"Current progress {int(progress)} %\")\n",
    "\n",
    "    step_counter += 1"
   ]
  },
  {
   "cell_type": "code",
   "execution_count": 6,
   "id": "tamil-technique",
   "metadata": {},
   "outputs": [],
   "source": [
    "# visualize trajectories of all steps\n",
    "visualize(\n",
    "    trajectories_over_time=trajectories_over_time,\n",
    "    reference_path=reference_path,\n",
    "    params=params,\n",
    ")"
   ]
  }
 ],
 "metadata": {
  "kernelspec": {
   "display_name": "Python 3",
   "language": "python",
   "name": "python3"
  },
  "language_info": {
   "codemirror_mode": {
    "name": "ipython",
    "version": 3
   },
   "file_extension": ".py",
   "mimetype": "text/x-python",
   "name": "python",
   "nbconvert_exporter": "python",
   "pygments_lexer": "ipython3",
   "version": "3.8.8"
  }
 },
 "nbformat": 4,
 "nbformat_minor": 5
}
