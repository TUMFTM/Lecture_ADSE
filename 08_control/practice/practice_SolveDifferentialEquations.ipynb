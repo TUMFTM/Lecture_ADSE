{
 "cells": [
  {
   "cell_type": "markdown",
   "id": "a0a6c735",
   "metadata": {},
   "source": [
    "**Solving differential equations in python**\n",
    "============================================================\n",
    "\n",
    "Control theory is the science of analyzing and modifying (\"controlling\") the behavior of dynamic systems. Dynamic systems can be described via differential equations in the general form of\n",
    "\n",
    "$\\dot{x} = f(x, u)$ \n",
    "\n",
    "with $x$ being the state variables and $u$ the external system inputs. An example related to the control tasks presented in the lecture are the longitudinal motion dynamics of an autonomous vehicle\n",
    "\n",
    "$\\dot{v} = \\frac{F_x}{m} - \\frac{c_d}{m}v^2$\n",
    "\n",
    "with $v$ being the velocity, $F_x$ the applied longitudinal force, $m$ the vehicle mass and $c_d$ the lumped drag  coefficient (including the air density, the aerodynamic reference area and the factor 1/2). We will now take a closer look on how to solve this equation for different input sequences $F_x$ in python. \n",
    "\n",
    "The differential equation for the system shows us the following things: \n",
    "\n",
    "There is **one state variable**: the velocity $v$\n",
    "\n",
    "There is **one input variable**: the external force $F_x$\n",
    "\n",
    "There are **two parameters**: The vehicle mass $m$ and the lumped drag coefficient $c_d$\n",
    "\n",
    "Prior to solving the differential equation we have to initialize the parameters, the external inputs and the time vector. "
   ]
  },
  {
   "cell_type": "code",
   "execution_count": null,
   "id": "07dcbeb5",
   "metadata": {},
   "outputs": [],
   "source": [
    "import numpy as np\n",
    "import matplotlib\n",
    "import matplotlib.pyplot as plt\n",
    "\n",
    "ratio = [16, 10]\n",
    "linewidth = 4\n",
    "plt.rcParams[\"figure.figsize\"] = ratio\n",
    "plt.rcParams.update({\"font.size\": 22})\n",
    "\n",
    "# step size in seconds\n",
    "tS = 0.1\n",
    "# number of steps\n",
    "N = 100\n",
    "# the resulting length of the solution equals tS*(N-1) seconds\n",
    "t = np.arange(0, tS * N, tS)\n",
    "# vehicle mass\n",
    "mass = 1200\n",
    "# lumped drag coefficient\n",
    "cd = 0.45\n",
    "\n",
    "# specify the external force input (0N for the first five seconds and 1000N for the rest of the horizon)\n",
    "Fx = np.hstack((np.full(int(N / 2), 0), np.full(int(N / 2), 1000)))\n",
    "plt.plot(t, Fx, linewidth=linewidth)\n",
    "plt.grid()\n",
    "plt.xlabel(\"Time in s\")\n",
    "plt.ylabel(\"Force request in N\")\n",
    "plt.show()"
   ]
  },
  {
   "cell_type": "markdown",
   "id": "80ea4e8f",
   "metadata": {},
   "source": [
    "We now have to apply a numerical solving scheme to the differential equation using the information defined previously. There are different schemes available such as **Forward Euler** or **Runge-Kutta** schemes of different order. The first is popular in applications due to its simple implementation. The second is more complicated to implement but leads to more accurate results. \n",
    "\n",
    "Usually its sufficient to start with a simple scheme and switch to a more sophisticated one if required. Another good strategy to increase the accuracy of the results is to use smaller timesteps. \n",
    "\n",
    "**Side note:** Simulink also allows to use these two schemes. They are named **ode1** (Forward Euler) and **ode4** (Runge-Kutta 4th order). The names originate from the *numerical order* of the schemes. It describes how fast the error of the integration converges to zero when the timestamp is reduced.  "
   ]
  },
  {
   "cell_type": "markdown",
   "id": "ee5e04be",
   "metadata": {},
   "source": [
    "We will use **Euler Forward** in this exercise. The basic idea here is simple: Assume that the derivative is constant for a certain timestep and add it to the previous value of the state. In mathematical notation this can be written as: \n",
    "\n",
    "$x(k+1) = x(k) + \\Delta T \\dot{x}(k) = x(k) + \\Delta T f(x(k), u(k))$\n",
    "\n",
    "To implement this recursive formula we also need an initial condition $x(0)$ for the differential equation at the time instance 0. Using this, we can start to apply the scheme and calculate the solution in an iterative manner: \n",
    "\n",
    "$x(1) = x(0) + \\Delta T f(x(0), u(0))$\n",
    "\n",
    "$x(2) = x(1) + \\Delta T f(x(1), u(1))$\n",
    "\n",
    "$x(3) = x(2) + \\Delta T f(x(2), u(2))$"
   ]
  },
  {
   "cell_type": "code",
   "execution_count": null,
   "id": "daf272a5",
   "metadata": {},
   "outputs": [],
   "source": [
    "# initialize the solution with all zeros\n",
    "v = np.zeros(N)\n",
    "# specify the initial condition with a certain speed\n",
    "v[0] = 20\n",
    "\n",
    "# we will now determine the solution to the differential equation specified above\n",
    "for i in range(1, v.shape[0]):\n",
    "    # apply euler forward integration (x(k+1) = x(k) + tS*d_x(k))\n",
    "    v[i] = v[i - 1] + tS * (Fx[i - 1] / mass - cd / mass * v[i - 1] ** 2)\n",
    "\n",
    "# visualize solution\n",
    "plt.plot(t, v, linewidth=linewidth)\n",
    "plt.grid()\n",
    "plt.xlabel(\"Time in s\")\n",
    "plt.ylabel(\"Velocity in mps\")\n",
    "plt.show()"
   ]
  },
  {
   "cell_type": "markdown",
   "id": "915772f6",
   "metadata": {},
   "source": [
    "We have seen how to handle a scalar differential equation for the velocity dynamics of an autonomous vehicle. This can now be extended to a more sophistcated example, with the velocity as well as the position dynamics along the longitudinal motion axis. The required differential equations are the following: \n",
    "\n",
    "$\\dot{v} = \\frac{F_x}{m} - \\frac{c_d}{m}v^2$\n",
    "\n",
    "$\\dot{s} = v$\n",
    "\n",
    "with $s$ being the position along the longitudinal coordinate frame. \n",
    "\n",
    "We can now apply a similar procedure as for the scalar differential equation to solve this system of differential equations: "
   ]
  },
  {
   "cell_type": "code",
   "execution_count": null,
   "id": "1b24bfa4",
   "metadata": {},
   "outputs": [],
   "source": [
    "# now we add the position dynamics\n",
    "\n",
    "# clear the solution with all zeros\n",
    "v = np.zeros(N)\n",
    "s = np.zeros(N)\n",
    "# specify the initial condition with a certain speed\n",
    "v[0] = 10\n",
    "s[0] = 0\n",
    "\n",
    "# solve the differential equation with euler forward and apply the same input as above\n",
    "for i in range(1, v.shape[0]):\n",
    "    # apply euler forward integration (x(k+1) = x(k) + tS*d_x(k))\n",
    "    # to the velocity dynamics\n",
    "    v[i] = v[i - 1] + tS * (Fx[i - 1] / mass - cd / mass * v[i - 1] ** 2)\n",
    "    # apply euler forward integration to the position dynamics\n",
    "    s[i] = s[i - 1] + tS * v[i - 1]\n",
    "\n",
    "# visualize solution\n",
    "fig, (ax1, ax2) = plt.subplots(1, 2, figsize=(32, 10))\n",
    "ax1.plot(t, v, linewidth=linewidth)\n",
    "ax1.set_xlabel(\"Time in s\")\n",
    "ax1.set_ylabel(\"Velocity in mps\")\n",
    "ax1.grid()\n",
    "ax2.plot(t, s, linewidth=linewidth)\n",
    "ax2.set_xlabel(\"Time in s\")\n",
    "ax2.set_ylabel(\"Distance in m\")\n",
    "ax2.grid()\n",
    "plt.tight_layout()\n",
    "plt.show()"
   ]
  }
 ],
 "metadata": {
  "kernelspec": {
   "display_name": "Python 3",
   "language": "python",
   "name": "python3"
  },
  "language_info": {
   "codemirror_mode": {
    "name": "ipython",
    "version": 3
   },
   "file_extension": ".py",
   "mimetype": "text/x-python",
   "name": "python",
   "nbconvert_exporter": "python",
   "pygments_lexer": "ipython3",
   "version": "3.8.8"
  }
 },
 "nbformat": 4,
 "nbformat_minor": 5
}
