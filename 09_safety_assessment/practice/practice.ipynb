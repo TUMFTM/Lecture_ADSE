{
 "cells": [
  {
   "cell_type": "markdown",
   "id": "competitive-elite",
   "metadata": {},
   "source": [
    "# 09 - Safety Assessment - Practice\n",
    "\n",
    "In this practice, we will be given a scenario (environment and object data) paired with a set of possible trajectories for the ego-vehicle. The goal is to implement a (simple) online safety assessment selecting the safetst trajectory among the given ones.\n",
    "\n",
    "![figures/overview.png](figures/overview.png)\n",
    "\n",
    "First, import of required packages (and definitions):"
   ]
  },
  {
   "cell_type": "code",
   "execution_count": 1,
   "id": "casual-health",
   "metadata": {},
   "outputs": [
    {
     "name": "stdout",
     "output_type": "stream",
     "text": [
      "please install costum module via 'pip install scenario-testing-tools'\n",
      "please install costum module via 'pip install trajectory-planning-helpers'\n"
     ]
    }
   ],
   "source": [
    "import numpy as np\n",
    "try:\n",
    "    import scenario_testing_tools as stt\n",
    "except ImportError as IE:\n",
    "    print(\"please install costum module via 'pip install scenario-testing-tools'\")\n",
    "    print(\"please install costum module via 'pip install trajectory-planning-helpers'\")\n",
    "import matplotlib.pyplot as plt\n",
    "\n",
    "# define TUM colors\n",
    "TUM_colors = {\n",
    "    \"TUM_blue\": \"#3070b3\",\n",
    "    \"TUM_orange\": \"#E37222\",\n",
    "    \"TUM_green\": \"#A2AD00\",\n",
    "    \"TUM_blue_dark\": \"#003359\",\n",
    "    \"TUM_grey_dark\": \"#9a9a9a\",\n",
    "    \"TUM_blue_medium\": \"#64A0C8\",\n",
    "    \"TUM_blue_light\": \"#98C6EA\",\n",
    "}"
   ]
  },
  {
   "cell_type": "markdown",
   "id": "introductory-relief",
   "metadata": {},
   "source": [
    "### Load and initialize scenario data\n",
    "\n",
    "Now we will retrieve and generate the required scenario data. \n",
    "\n",
    "The scenarios are stored in scenario-files, that can be easily accessed with the \"scenario_testing_tools\"-package. Each of the scenarios holds identical track bounds and the same object vehicle behavior. Solely the ego-trajectory is different in the five scenarios.\n",
    "\n",
    "First, we set the relative path to the scenario files."
   ]
  },
  {
   "cell_type": "code",
   "execution_count": 2,
   "id": "fatty-belief",
   "metadata": {},
   "outputs": [],
   "source": [
    "# Scenario files\n",
    "file_scn1 = \"scenarios/scenario_1.saa\"\n",
    "file_scn2 = \"scenarios/scenario_2.saa\"\n",
    "file_scn3 = \"scenarios/scenario_3.saa\"\n",
    "file_scn4 = \"scenarios/scenario_4.saa\"\n",
    "file_scn5 = \"scenarios/scenario_5.saa\""
   ]
  },
  {
   "cell_type": "markdown",
   "id": "difficult-finnish",
   "metadata": {},
   "source": [
    "Second, we extract the track boundaries from the a scenario file. Since all scenario files are same, any file can be chosen."
   ]
  },
  {
   "cell_type": "code",
   "execution_count": 3,
   "id": "retained-australia",
   "metadata": {},
   "outputs": [
    {
     "ename": "NameError",
     "evalue": "name 'stt' is not defined",
     "output_type": "error",
     "traceback": [
      "\u001b[1;31m---------------------------------------------------------------------------\u001b[0m",
      "\u001b[1;31mNameError\u001b[0m                                 Traceback (most recent call last)",
      "\u001b[1;32m<ipython-input-3-89819ccf5da3>\u001b[0m in \u001b[0;36m<module>\u001b[1;34m\u001b[0m\n\u001b[0;32m      1\u001b[0m \u001b[1;31m# -- get track boundaries from scenario file --\u001b[0m\u001b[1;33m\u001b[0m\u001b[1;33m\u001b[0m\u001b[1;33m\u001b[0m\u001b[0m\n\u001b[1;32m----> 2\u001b[1;33m \u001b[0mbound_l\u001b[0m\u001b[1;33m,\u001b[0m \u001b[0mbound_r\u001b[0m \u001b[1;33m=\u001b[0m \u001b[0mstt\u001b[0m\u001b[1;33m.\u001b[0m\u001b[0mget_scene_track\u001b[0m\u001b[1;33m.\u001b[0m\u001b[0mget_scene_track\u001b[0m\u001b[1;33m(\u001b[0m\u001b[0mfile_path\u001b[0m\u001b[1;33m=\u001b[0m\u001b[0mfile_scn1\u001b[0m\u001b[1;33m)\u001b[0m\u001b[1;33m\u001b[0m\u001b[1;33m\u001b[0m\u001b[0m\n\u001b[0m",
      "\u001b[1;31mNameError\u001b[0m: name 'stt' is not defined"
     ]
    }
   ],
   "source": [
    "# -- get track boundaries from scenario file --\n",
    "bound_l, bound_r = stt.get_scene_track.get_scene_track(file_path=file_scn1)"
   ]
  },
  {
   "cell_type": "markdown",
   "id": "animated-chart",
   "metadata": {},
   "source": [
    "Third, we import the poses of the object vehicle. As with the track boundaries, any file can be chosen.\n",
    "Since the object vehicle poses are stored for distinct time stamps in the scenario, we iterate over all available time-stamps and extract the corresponding pose."
   ]
  },
  {
   "cell_type": "code",
   "execution_count": 4,
   "id": "cosmetic-shift",
   "metadata": {},
   "outputs": [],
   "source": [
    "# -- trajectory of object vehicle --\n",
    "\n",
    "# init list containers (length not known beforehand)\n",
    "t_obj = []\n",
    "x_obj = []\n",
    "y_obj = []\n",
    "psi_obj = []\n",
    "v_obj = []\n",
    "\n",
    "# get all entries from scenario file\n",
    "i = 0\n",
    "while True:\n",
    "    try:\n",
    "        # get object list entry, if requested time stamp is not in file an error is raised\n",
    "        data = stt.get_scene_timesample.get_scene_timesample(\n",
    "            file_path=file_scn1, t_in=i\n",
    "        )\n",
    "        time = data[0]\n",
    "        obj_list = data[8]\n",
    "\n",
    "        # get first (and only) object in the object list\n",
    "        obj = next(iter(obj_list.values()))\n",
    "\n",
    "        # append data to list containers\n",
    "        t_obj.append(time)\n",
    "        x_obj.append(obj[\"X\"])\n",
    "        y_obj.append(obj[\"Y\"])\n",
    "        psi_obj.append(obj[\"psi\"])\n",
    "        v_obj.append(obj[\"vel\"])\n",
    "\n",
    "        # increase counter\n",
    "        i += 1\n",
    "    except:\n",
    "        break\n",
    "\n",
    "# get numpy array form list containers, columns [t, x, y, psi, v]\n",
    "traj_obj = np.column_stack((t_obj, x_obj, y_obj, psi_obj, v_obj))"
   ]
  },
  {
   "cell_type": "markdown",
   "id": "latter-adobe",
   "metadata": {},
   "source": [
    "Finally, we load all trajectory candidates for the ego-vehicle. Here, the \"scenario_testing_tools\"-package provides a function to load the complete trajectory with one call (no iteration required)."
   ]
  },
  {
   "cell_type": "code",
   "execution_count": 5,
   "id": "digital-style",
   "metadata": {},
   "outputs": [
    {
     "ename": "NameError",
     "evalue": "name 'stt' is not defined",
     "output_type": "error",
     "traceback": [
      "\u001b[1;31m---------------------------------------------------------------------------\u001b[0m",
      "\u001b[1;31mNameError\u001b[0m                                 Traceback (most recent call last)",
      "\u001b[1;32m<ipython-input-5-6141ddb13e7a>\u001b[0m in \u001b[0;36m<module>\u001b[1;34m\u001b[0m\n\u001b[0;32m      2\u001b[0m \u001b[1;33m\u001b[0m\u001b[0m\n\u001b[0;32m      3\u001b[0m \u001b[1;31m# get first ego trajectory data\u001b[0m\u001b[1;33m\u001b[0m\u001b[1;33m\u001b[0m\u001b[1;33m\u001b[0m\u001b[0m\n\u001b[1;32m----> 4\u001b[1;33m \u001b[0mdata\u001b[0m \u001b[1;33m=\u001b[0m \u001b[0mstt\u001b[0m\u001b[1;33m.\u001b[0m\u001b[0mget_scene_ego_traj\u001b[0m\u001b[1;33m.\u001b[0m\u001b[0mget_scene_ego_traj\u001b[0m\u001b[1;33m(\u001b[0m\u001b[0mfile_path\u001b[0m\u001b[1;33m=\u001b[0m\u001b[0mfile_scn1\u001b[0m\u001b[1;33m,\u001b[0m \u001b[0mappend_plan\u001b[0m\u001b[1;33m=\u001b[0m\u001b[1;32mFalse\u001b[0m\u001b[1;33m)\u001b[0m\u001b[1;33m\u001b[0m\u001b[1;33m\u001b[0m\u001b[0m\n\u001b[0m\u001b[0;32m      5\u001b[0m \u001b[1;33m\u001b[0m\u001b[0m\n\u001b[0;32m      6\u001b[0m \u001b[1;31m# get numpy array for first ego trajectory with columns [t, x, y, psi, curv, v, a]\u001b[0m\u001b[1;33m\u001b[0m\u001b[1;33m\u001b[0m\u001b[1;33m\u001b[0m\u001b[0m\n",
      "\u001b[1;31mNameError\u001b[0m: name 'stt' is not defined"
     ]
    }
   ],
   "source": [
    "# -- trajectories of ego-vehicle --\n",
    "\n",
    "# get first ego trajectory data\n",
    "data = stt.get_scene_ego_traj.get_scene_ego_traj(file_path=file_scn1, append_plan=False)\n",
    "\n",
    "# get numpy array for first ego trajectory with columns [t, x, y, psi, curv, v, a]\n",
    "traj_ego1 = np.column_stack((data[:7]))\n",
    "\n",
    "# execute this for the remaining four trajectories (in line)\n",
    "traj_ego2 = np.column_stack(\n",
    "    (\n",
    "        stt.get_scene_ego_traj.get_scene_ego_traj(\n",
    "            file_path=file_scn2, append_plan=False\n",
    "        )[:7]\n",
    "    )\n",
    ")\n",
    "traj_ego3 = np.column_stack(\n",
    "    (\n",
    "        stt.get_scene_ego_traj.get_scene_ego_traj(\n",
    "            file_path=file_scn3, append_plan=False\n",
    "        )[:7]\n",
    "    )\n",
    ")\n",
    "traj_ego4 = np.column_stack(\n",
    "    (\n",
    "        stt.get_scene_ego_traj.get_scene_ego_traj(\n",
    "            file_path=file_scn4, append_plan=False\n",
    "        )[:7]\n",
    "    )\n",
    ")\n",
    "traj_ego5 = np.column_stack(\n",
    "    (\n",
    "        stt.get_scene_ego_traj.get_scene_ego_traj(\n",
    "            file_path=file_scn5, append_plan=False\n",
    "        )[:7]\n",
    "    )\n",
    ")"
   ]
  },
  {
   "cell_type": "markdown",
   "id": "figured-guest",
   "metadata": {},
   "source": [
    "Now we can visualize the imported data (in this case for `traj_ego1`)."
   ]
  },
  {
   "cell_type": "code",
   "execution_count": 6,
   "id": "graphic-final",
   "metadata": {},
   "outputs": [
    {
     "ename": "NameError",
     "evalue": "name 'bound_l' is not defined",
     "output_type": "error",
     "traceback": [
      "\u001b[1;31m---------------------------------------------------------------------------\u001b[0m",
      "\u001b[1;31mNameError\u001b[0m                                 Traceback (most recent call last)",
      "\u001b[1;32m<ipython-input-6-7dbcf6ab9acd>\u001b[0m in \u001b[0;36m<module>\u001b[1;34m\u001b[0m\n\u001b[0;32m      3\u001b[0m \u001b[1;33m\u001b[0m\u001b[0m\n\u001b[0;32m      4\u001b[0m \u001b[1;31m# plot boundaries\u001b[0m\u001b[1;33m\u001b[0m\u001b[1;33m\u001b[0m\u001b[1;33m\u001b[0m\u001b[0m\n\u001b[1;32m----> 5\u001b[1;33m \u001b[0mplt\u001b[0m\u001b[1;33m.\u001b[0m\u001b[0mplot\u001b[0m\u001b[1;33m(\u001b[0m\u001b[0mbound_l\u001b[0m\u001b[1;33m[\u001b[0m\u001b[1;33m:\u001b[0m\u001b[1;33m,\u001b[0m \u001b[1;36m0\u001b[0m\u001b[1;33m]\u001b[0m\u001b[1;33m,\u001b[0m \u001b[0mbound_l\u001b[0m\u001b[1;33m[\u001b[0m\u001b[1;33m:\u001b[0m\u001b[1;33m,\u001b[0m \u001b[1;36m1\u001b[0m\u001b[1;33m]\u001b[0m\u001b[1;33m,\u001b[0m \u001b[1;34m\"k\"\u001b[0m\u001b[1;33m)\u001b[0m\u001b[1;33m\u001b[0m\u001b[1;33m\u001b[0m\u001b[0m\n\u001b[0m\u001b[0;32m      6\u001b[0m \u001b[0mplt\u001b[0m\u001b[1;33m.\u001b[0m\u001b[0mplot\u001b[0m\u001b[1;33m(\u001b[0m\u001b[0mbound_r\u001b[0m\u001b[1;33m[\u001b[0m\u001b[1;33m:\u001b[0m\u001b[1;33m,\u001b[0m \u001b[1;36m0\u001b[0m\u001b[1;33m]\u001b[0m\u001b[1;33m,\u001b[0m \u001b[0mbound_r\u001b[0m\u001b[1;33m[\u001b[0m\u001b[1;33m:\u001b[0m\u001b[1;33m,\u001b[0m \u001b[1;36m1\u001b[0m\u001b[1;33m]\u001b[0m\u001b[1;33m,\u001b[0m \u001b[1;34m\"k\"\u001b[0m\u001b[1;33m)\u001b[0m\u001b[1;33m\u001b[0m\u001b[1;33m\u001b[0m\u001b[0m\n\u001b[0;32m      7\u001b[0m \u001b[1;33m\u001b[0m\u001b[0m\n",
      "\u001b[1;31mNameError\u001b[0m: name 'bound_l' is not defined"
     ]
    },
    {
     "data": {
      "text/plain": [
       "<Figure size 720x720 with 0 Axes>"
      ]
     },
     "metadata": {},
     "output_type": "display_data"
    }
   ],
   "source": [
    "fig = plt.figure()\n",
    "fig.set_size_inches(10, 10)\n",
    "\n",
    "# plot boundaries\n",
    "plt.plot(bound_l[:, 0], bound_l[:, 1], \"k\")\n",
    "plt.plot(bound_r[:, 0], bound_r[:, 1], \"k\")\n",
    "\n",
    "# plot object trajectory (in blue)\n",
    "plt.plot(traj_obj[:, 1], traj_obj[:, 2], TUM_colors[\"TUM_blue\"])\n",
    "\n",
    "# plot ego trajectory 1 (in orange)\n",
    "plt.plot(traj_ego1[:, 1], traj_ego1[:, 2], TUM_colors[\"TUM_orange\"])\n",
    "\n",
    "# plot metadata\n",
    "plt.gca().set_aspect(\"equal\", \"box\")\n",
    "plt.gca().set_xlabel(\"$x$ in m\")\n",
    "plt.gca().set_ylabel(\"$y$ in m\")"
   ]
  },
  {
   "cell_type": "markdown",
   "id": "traditional-pierce",
   "metadata": {},
   "source": [
    "Since this display neglects the temporal information, we can setup a simple animation."
   ]
  },
  {
   "cell_type": "code",
   "execution_count": null,
   "id": "eligible-trail",
   "metadata": {},
   "outputs": [],
   "source": [
    "from matplotlib.animation import FuncAnimation\n",
    "\n",
    "fig = plt.figure()\n",
    "fig.set_size_inches(10, 10)\n",
    "\n",
    "# plot boundaries\n",
    "plt.plot(bound_l[:, 0], bound_l[:, 1], \"k\")\n",
    "plt.plot(bound_r[:, 0], bound_r[:, 1], \"k\")\n",
    "\n",
    "# plot metadata\n",
    "plt.gca().set_aspect(\"equal\", \"box\")\n",
    "plt.gca().set_xlabel(\"$x$ in m\")\n",
    "plt.gca().set_ylabel(\"$y$ in m\")\n",
    "\n",
    "# plot dummys for vehicles\n",
    "(veh_obj,) = plt.plot(0.0, 0.0, TUM_colors[\"TUM_blue\"], marker=\".\", markersize=12)\n",
    "(veh_ego,) = plt.plot(0.0, 0.0, TUM_colors[\"TUM_orange\"], marker=\".\", markersize=12)\n",
    "\n",
    "# select an ego-trajectory to be displayed\n",
    "traj_ego_sel = traj_ego1\n",
    "\n",
    "\n",
    "def update(i):\n",
    "    # set current time-stamp as title\n",
    "    plt.gca().set_title(\"t = %.2fs\" % traj_ego_sel[i, 0])\n",
    "\n",
    "    # update vehicle positions\n",
    "    veh_obj.set_data(traj_obj[i, 1], traj_obj[i, 2])\n",
    "    veh_ego.set_data(traj_ego_sel[i, 1], traj_ego_sel[i, 2])\n",
    "    return\n",
    "\n",
    "\n",
    "# FuncAnimation will call the 'update' function for each frame\n",
    "# animating all frames, with an interval of q00ms between frames\n",
    "anim = FuncAnimation(\n",
    "    fig,\n",
    "    update,\n",
    "    frames=np.arange(0, min(traj_ego_sel.shape[0], traj_obj.shape[0])),\n",
    "    interval=100,\n",
    ")\n",
    "\n",
    "# plt.show() will just loop the animation forever in a normal shell\n",
    "# for jupyter we need a html wrapper\n",
    "from IPython.display import HTML\n",
    "\n",
    "HTML(anim.to_jshtml())"
   ]
  },
  {
   "cell_type": "markdown",
   "id": "reverse-surge",
   "metadata": {},
   "source": [
    "### TTC Rating\n",
    "\n",
    "In a first step we want to rate our trajectory candidates against the object vehicle. Therefore, we will focus on a specific point in time (t = 4s) of our ego-trajectory as well as on the object vehicle.\n",
    "\n",
    "*Note: In this case we have perfect information about the future of the object vehicle, on a real vehicle one would have to predict the behavior of the other vehicle or rely on a rating of the current time step only.*\n",
    "\n",
    "To make the evaluation for all trajectories simple, we define a function that determines the TTC for a specific constellation.\n",
    "\n",
    "Reminder TTC:\n",
    "$$\\mathrm{TTC} = \\frac{d_\\mathrm{x}}{(v_\\mathrm{ego} - v_\\mathrm{le})}$$,\n",
    "for a given longitudinal distance $d_\\mathrm{x}$, ego velocity $v_\\mathrm{ego}$ and velocity of the lead vehicle $v_\\mathrm{le}$."
   ]
  },
  {
   "cell_type": "code",
   "execution_count": null,
   "id": "associate-warner",
   "metadata": {},
   "outputs": [],
   "source": [
    "def calc_ttc(\n",
    "    pos_ego: np.ndarray,\n",
    "    vel_ego: float,\n",
    "    pos_obj: np.ndarray,\n",
    "    vel_obj: float,\n",
    "    veh_len: float = 4.7,\n",
    "):\n",
    "    \"\"\"\n",
    "    Calculates the time to collision (TTC) for a given ego vehicle (pos, vel) and an object vehicle (pos, vel).\n",
    "    Assumption: the provided object vehicle is _in front_ of the ego vehicle.\n",
    "    \n",
    "    :param pos_ego:    position of ego vehicle as numpy array with columns x, y [in m]\n",
    "    :param vel_ego:    velocity of ego vehicle [in m/s]\n",
    "    :param pos_obj:    position of object vehicle as numpy array with columns x, y [in m]\n",
    "    :param vel_obj:    velocity of object vehicle [in m/s]\n",
    "    :param veh_len:    (optional) vehicle length (assumed identical for both) [in m]\n",
    "    :returns ttc:      time to collision [in s]\n",
    "    \"\"\"\n",
    "\n",
    "    # check if ego vehicle is faster than leading vehicle (otherwise it will never reach the other vehicle)\n",
    "    if vel_ego > vel_obj:\n",
    "        # calculate distance between vehicles (bumper to bumper)\n",
    "        dist = np.hypot(pos_ego[0] - pos_obj[0], pos_ego[1] - pos_obj[1]) - veh_len\n",
    "\n",
    "        # calculate ttc\n",
    "        ttc = dist / (vel_ego - vel_obj)\n",
    "\n",
    "    else:\n",
    "        ttc = np.inf\n",
    "\n",
    "    return ttc"
   ]
  },
  {
   "cell_type": "markdown",
   "id": "labeled-communications",
   "metadata": {},
   "source": [
    "Now we can use this function to calculate the TTC at t = 4s for all trajectory candidates."
   ]
  },
  {
   "cell_type": "code",
   "execution_count": null,
   "id": "ruled-bacon",
   "metadata": {},
   "outputs": [],
   "source": [
    "# find index in trajectory that is closest to t = 4s\n",
    "t = 4.0\n",
    "idx_t = np.argmin(np.abs(traj_ego1[:, 0] - t))\n",
    "\n",
    "# calculate TTC for all ego trajectory candidates\n",
    "ttc = []\n",
    "for traj_ego in [traj_ego1, traj_ego2, traj_ego3, traj_ego4, traj_ego5]:\n",
    "    ttc.append(\n",
    "        calc_ttc(\n",
    "            pos_ego=traj_ego[idx_t, 1:3],\n",
    "            vel_ego=traj_ego[idx_t, 5],\n",
    "            pos_obj=traj_obj[idx_t, 1:3],\n",
    "            vel_obj=traj_obj[idx_t, 4],\n",
    "        )\n",
    "    )\n",
    "\n",
    "print(ttc)"
   ]
  },
  {
   "cell_type": "markdown",
   "id": "entitled-insurance",
   "metadata": {},
   "source": [
    "The smaller the TTC, the more critical the situation. Once the TTC reaches a value of $0$, a collision happens. In related work, a value of $2.0$ and below is considered as critical. Therefore, one of the given trajectories is considered critical w.r.t. the TTC rating."
   ]
  },
  {
   "cell_type": "markdown",
   "id": "patient-leader",
   "metadata": {},
   "source": [
    "### Acceleration Limit Rating\n",
    "\n",
    "Next we will check the total requested acceleration resulting on the tire for each of the trajectories. Therefore, we assume a simple fricion model (friction circle) holds, such that the total acceleration - composed of a lateral and longitudinal acceleration - must not exceed a track and tire specific value.\n",
    "\n",
    "![figures/friction_circle.png](figures/friction_circle.png)\n",
    "\n",
    "It should be noted, that the drag acting on the vehicle can be calculated as follows:\n",
    "$$a_\\mathrm{drag} = v^2 c_\\mathrm{drag} / m,$$\n",
    "where $v$ is the velocity, $m$ the mass, and $c_\\mathrm{drag}$ the vehicle specific drag coefficient (including mass density and reference area). For the vehicle specific drag coefficient a value of $0.954$ can be assumed. For the vehcile mass, a value of $1160.0$ can be assumed.\n",
    "\n",
    "Similar to the TTC rating, we start of by defining a function that handles the calculation of the combined accelration."
   ]
  },
  {
   "cell_type": "code",
   "execution_count": null,
   "id": "early-border",
   "metadata": {},
   "outputs": [],
   "source": [
    "def calc_a_comb(traj_ego: np.ndarray, c_drag: float = 0.954, m_veh: float = 1160.0):\n",
    "    \"\"\"\n",
    "    Calculates the combined acceleration acting on the tires for a given trajectory.\n",
    "    \n",
    "    :param traj_ego:   ego trajectory with columns [t, x, y, psi, curv, v, a]\n",
    "    :param c_drag:     (optional) vehicle specific drag coefficient\n",
    "    :param m_veh:      (optional) vehicle mass\n",
    "    :returns a_comb:   combined acceleration acting on the tires along the trajectory  \n",
    "    \"\"\"\n",
    "\n",
    "    # for each point on the planed trajectory, extract curvature, velocity and longitudinal acceleration\n",
    "    ego_curve = traj_ego[:, 4]\n",
    "    ego_velocity = traj_ego[:, 5]\n",
    "    a_lon_used = traj_ego[:, 6]\n",
    "\n",
    "    # for each point on the planned trajectory, calculate the lateral acceleration based on curvature and velocity\n",
    "    a_lat_used = np.power(ego_velocity[:], 2) * ego_curve[:]\n",
    "\n",
    "    # calculate equivalent longitudinal acceleration of drag force along velocity profile\n",
    "    a_lon_drag = np.power(ego_velocity[:], 2) * c_drag / m_veh\n",
    "\n",
    "    # drag reduces requested deceleration but increases requested acceleration at the tire\n",
    "    a_lon_used += a_lon_drag\n",
    "\n",
    "    # calculate used combined acceleration\n",
    "    a_comb = np.sqrt(np.power(np.abs(a_lon_used), 2) + np.power(np.abs(a_lat_used), 2))\n",
    "\n",
    "    return a_comb"
   ]
  },
  {
   "cell_type": "markdown",
   "id": "pressed-northeast",
   "metadata": {},
   "source": [
    "Now we can use this function to calculate the combined acceleration along all trajectory candidates."
   ]
  },
  {
   "cell_type": "code",
   "execution_count": null,
   "id": "divided-account",
   "metadata": {},
   "outputs": [],
   "source": [
    "# calculate combined acceleration for all ego trajectory candidates\n",
    "a_comb = []\n",
    "for traj_ego in [traj_ego1, traj_ego2, traj_ego3, traj_ego4, traj_ego5]:\n",
    "    a_comb.append(calc_a_comb(traj_ego=traj_ego))\n",
    "\n",
    "# print maximum combined acceleration for each of the trajectory candidates\n",
    "print([max(a) for a in a_comb])"
   ]
  },
  {
   "cell_type": "markdown",
   "id": "plastic-quantity",
   "metadata": {},
   "source": [
    "The acceleration limit for the tire-track-combination was determined to reside at $15.0 m/s^2$. Therefore, one of the trajectories significantly exceeds this limit an must be flagged as unsafe.\n",
    "\n",
    "If we want to see more details here we can plot the acceleration and velocity over time."
   ]
  },
  {
   "cell_type": "code",
   "execution_count": null,
   "id": "respective-dodge",
   "metadata": {},
   "outputs": [],
   "source": [
    "fig = plt.figure()\n",
    "fig.set_size_inches(10, 10)\n",
    "\n",
    "# plot metadata\n",
    "plt.gca().set_xlabel(\"$t$ in s\")\n",
    "plt.gca().set_ylabel(\"$v$ in m/s\\n$a$ in m/s$^2$\")\n",
    "\n",
    "# plot 15m/s^2 bound\n",
    "plt.plot([0.0, 15.0], [15.0, 15.0], \"r\")\n",
    "\n",
    "for i, (traj_ego_sel, a_comb_sel) in enumerate(\n",
    "    zip([traj_ego1, traj_ego2, traj_ego3, traj_ego4, traj_ego5], a_comb)\n",
    "):\n",
    "    # plot velocity\n",
    "    plt.plot(\n",
    "        traj_ego_sel[:, 0],\n",
    "        traj_ego_sel[:, 5],\n",
    "        list(TUM_colors.values())[i],\n",
    "        linestyle=\":\",\n",
    "        label=\"$v$ (ego_traj\" + str(i + 1) + \")\",\n",
    "    )\n",
    "\n",
    "    # plot combined acceleration\n",
    "    plt.plot(\n",
    "        traj_ego_sel[:, 0],\n",
    "        a_comb_sel,\n",
    "        list(TUM_colors.values())[i],\n",
    "        label=\"$a$ (ego_traj\" + str(i + 1) + \")\",\n",
    "    )\n",
    "\n",
    "plt.gca().legend()"
   ]
  },
  {
   "cell_type": "markdown",
   "id": "hungarian-realtor",
   "metadata": {},
   "source": [
    "### Rating and Outlook\n",
    "\n",
    "Based on the generated scores we can label each of the trajectories with a boolean flag. Unsafe trajectories will receive a `False` flag.\n",
    "\n",
    "NOTE: For now, we rated two properties only, i.e. a trajectory not violating one of the ratings above still can be unsafe w.r.t. some other metric."
   ]
  },
  {
   "cell_type": "code",
   "execution_count": null,
   "id": "portuguese-ranking",
   "metadata": {},
   "outputs": [],
   "source": [
    "s_traj = []\n",
    "\n",
    "for ttc_i, a_comb_i in zip(ttc, a_comb):\n",
    "    s_traj.append((ttc_i > 2.0 and max(a_comb_i) <= 15.0))\n",
    "\n",
    "print(s_traj)"
   ]
  },
  {
   "cell_type": "markdown",
   "id": "changing-jones",
   "metadata": {},
   "source": [
    "Based on the TTC rating and the acceleration limit rating, we can sort out two of the five provided trajectories. The homework will cover an alternative to the TTC rating and focus on the track limit adherance. The goal is to ultimatively state, which of the five trajectories is the most promising one."
   ]
  }
 ],
 "metadata": {
  "kernelspec": {
   "display_name": "Python 3",
   "language": "python",
   "name": "python3"
  },
  "language_info": {
   "codemirror_mode": {
    "name": "ipython",
    "version": 3
   },
   "file_extension": ".py",
   "mimetype": "text/x-python",
   "name": "python",
   "nbconvert_exporter": "python",
   "pygments_lexer": "ipython3",
   "version": "3.8.8"
  }
 },
 "nbformat": 4,
 "nbformat_minor": 5
}
