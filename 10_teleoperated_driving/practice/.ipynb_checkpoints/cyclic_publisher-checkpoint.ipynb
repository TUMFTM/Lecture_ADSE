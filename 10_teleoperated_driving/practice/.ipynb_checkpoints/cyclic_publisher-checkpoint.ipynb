{
 "cells": [
  {
   "cell_type": "code",
   "execution_count": null,
   "id": "temporal-significance",
   "metadata": {},
   "outputs": [],
   "source": [
    "import paho.mqtt.publish as publish\n",
    "import time\n",
    "\n",
    "number_of_cycles = 10\n",
    "sleep_interval_in_sec = 1\n",
    "\n",
    "for iteration in range(number_of_cycles):\n",
    "    publish.single(\n",
    "        \"testtopic/single\", \"payload_\" + str(iteration + 1), hostname=\"broker.emqx.io\"\n",
    "    )\n",
    "    print(\"published number: \" + str(iteration + 1))\n",
    "    time.sleep(sleep_interval_in_sec)\n",
    "\n",
    "print(\"finished publishing\")"
   ]
  }
 ],
 "metadata": {
  "kernelspec": {
   "display_name": "Python 3",
   "language": "python",
   "name": "python3"
  },
  "language_info": {
   "codemirror_mode": {
    "name": "ipython",
    "version": 3
   },
   "file_extension": ".py",
   "mimetype": "text/x-python",
   "name": "python",
   "nbconvert_exporter": "python",
   "pygments_lexer": "ipython3",
   "version": "3.8.8"
  }
 },
 "nbformat": 4,
 "nbformat_minor": 5
}
