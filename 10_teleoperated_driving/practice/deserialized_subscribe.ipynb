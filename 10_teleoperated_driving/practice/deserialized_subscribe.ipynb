{
 "cells": [
  {
   "cell_type": "markdown",
   "id": "unable-chance",
   "metadata": {},
   "source": [
    "## Subscriber to serialized data"
   ]
  },
  {
   "cell_type": "code",
   "execution_count": null,
   "id": "cleared-rapid",
   "metadata": {},
   "outputs": [],
   "source": [
    "import vehicleParams\n",
    "import paho.mqtt.subscribe as subscribe\n",
    "import pickle\n",
    "\n",
    "while True:\n",
    "    msg = subscribe.simple(\"testtopic/single\", hostname=\"broker.emqx.io\")\n",
    "    unserialized_q7 = pickle.loads(msg.payload)\n",
    "    print(\"vehicle length %s and width %s\" % \\\n",
    "          (unserialized_q7.length, unserialized_q7.width))\n"
   ]
  }
 ],
 "metadata": {
  "kernelspec": {
   "display_name": "ADSE_anaconda",
   "language": "python",
   "name": "adse_anaconda"
  },
  "language_info": {
   "codemirror_mode": {
    "name": "ipython",
    "version": 3
   },
   "file_extension": ".py",
   "mimetype": "text/x-python",
   "name": "python",
   "nbconvert_exporter": "python",
   "pygments_lexer": "ipython3",
   "version": "3.8.8"
  }
 },
 "nbformat": 4,
 "nbformat_minor": 5
}
