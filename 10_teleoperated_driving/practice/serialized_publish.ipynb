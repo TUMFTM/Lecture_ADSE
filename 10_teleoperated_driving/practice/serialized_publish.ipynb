{
 "cells": [
  {
   "cell_type": "code",
   "execution_count": null,
   "id": "polished-module",
   "metadata": {},
   "outputs": [],
   "source": [
    "import vehicleParams as veh\n",
    "\n",
    "q7 = veh.VehicleParams(5.00, 1.91)"
   ]
  },
  {
   "cell_type": "code",
   "execution_count": null,
   "id": "ranging-constitution",
   "metadata": {},
   "outputs": [],
   "source": [
    "import paho.mqtt.publish as publish"
   ]
  },
  {
   "cell_type": "markdown",
   "id": "mighty-design",
   "metadata": {},
   "source": [
    "<span style=\"color: red;\">**The next cell fails.**</span>  \n",
    "Only string, bytearray, int, float or None can be sent over network.  \n"
   ]
  },
  {
   "cell_type": "code",
   "execution_count": null,
   "id": "committed-eleven",
   "metadata": {},
   "outputs": [],
   "source": [
    "publish.single(\"testtopic/single\", q7, hostname=\"broker.emqx.io\")"
   ]
  },
  {
   "cell_type": "markdown",
   "id": "accessible-travel",
   "metadata": {},
   "source": [
    "## Serialization\n",
    "\n",
    "Data is converted into a bytestream"
   ]
  },
  {
   "cell_type": "code",
   "execution_count": null,
   "id": "clear-particle",
   "metadata": {},
   "outputs": [],
   "source": [
    "import pickle\n",
    "\n",
    "serialized_q7 = pickle.dumps(q7)"
   ]
  },
  {
   "cell_type": "markdown",
   "id": "major-castle",
   "metadata": {},
   "source": [
    "## Deserialization\n",
    "Data is converted back from bytestream to original format"
   ]
  },
  {
   "cell_type": "code",
   "execution_count": null,
   "id": "dried-authority",
   "metadata": {},
   "outputs": [],
   "source": [
    "previous_q7 = pickle.loads(serialized_q7)\n",
    "print(\n",
    "    \"Q7 dimensions: width {} and length {}\".format(\n",
    "        previous_q7.length, previous_q7.width\n",
    "    )\n",
    ")"
   ]
  },
  {
   "cell_type": "markdown",
   "id": "digital-friday",
   "metadata": {},
   "source": [
    "## Serialized publisher\n",
    "The next program continuously sends serialized data to the specified topic:"
   ]
  },
  {
   "cell_type": "code",
   "execution_count": null,
   "id": "legal-istanbul",
   "metadata": {},
   "outputs": [],
   "source": [
    "import time\n",
    "\n",
    "while True:\n",
    "    publish.single(\"testtopic/single\", serialized_q7, hostname=\"broker.emqx.io\")\n",
    "    time.sleep(2)"
   ]
  }
 ],
 "metadata": {
  "kernelspec": {
   "display_name": "Python 3",
   "language": "python",
   "name": "python3"
  },
  "language_info": {
   "codemirror_mode": {
    "name": "ipython",
    "version": 3
   },
   "file_extension": ".py",
   "mimetype": "text/x-python",
   "name": "python",
   "nbconvert_exporter": "python",
   "pygments_lexer": "ipython3",
   "version": "3.8.8"
  }
 },
 "nbformat": 4,
 "nbformat_minor": 5
}
