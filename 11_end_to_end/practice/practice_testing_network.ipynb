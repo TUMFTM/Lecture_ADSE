{
 "cells": [
  {
   "cell_type": "markdown",
   "metadata": {
    "pycharm": {
     "name": "#%% md\n"
    }
   },
   "source": [
    "# End-to-End Learning | Practical Session Part III | Testing Neural Network"
   ]
  },
  {
   "cell_type": "code",
   "execution_count": null,
   "metadata": {
    "pycharm": {
     "name": "#%%\n"
    }
   },
   "outputs": [],
   "source": [
    "import os\n",
    "import numpy as np\n",
    "import pandas as pd\n",
    "import torch\n",
    "import gym.wrappers\n",
    "from nets.imitator import Policy\n",
    "from utils import make_Dirs, get_EnvInfo"
   ]
  },
  {
   "cell_type": "code",
   "execution_count": null,
   "metadata": {
    "pycharm": {
     "name": "#%%\n"
    }
   },
   "outputs": [],
   "source": [
    "N_TRAJECTORY = 5\n",
    "N_TIME = 1000\n",
    "\n",
    "METHOD = \"Lecture_End_to_End_PracticeSession\"\n",
    "sdir = \"./result/\" + METHOD + \"/\""
   ]
  },
  {
   "cell_type": "code",
   "execution_count": null,
   "metadata": {
    "pycharm": {
     "name": "#%%\n"
    }
   },
   "outputs": [],
   "source": [
    "# prepare save directories\n",
    "make_Dirs(sdir + \"reward/\")\n",
    "\n",
    "env = gym.wrappers.Monitor(gym.make(\"CarRacing-v0\"), sdir + \"video/\", force=True)\n",
    "env.seed(0)\n",
    "torch.manual_seed(0)\n",
    "np.random.seed(0)\n",
    "s_dim, a_dim, transform = get_EnvInfo(env)"
   ]
  },
  {
   "cell_type": "code",
   "execution_count": null,
   "metadata": {
    "pycharm": {
     "name": "#%% \n"
    }
   },
   "outputs": [],
   "source": [
    "policy = Policy(s_dim, a_dim)\n",
    "policy.load(sdir)\n",
    "policy.eval()\n",
    "\n",
    "summary = []\n",
    "rewards = []"
   ]
  },
  {
   "cell_type": "code",
   "execution_count": null,
   "metadata": {
    "pycharm": {
     "name": "#%%\n"
    }
   },
   "outputs": [],
   "source": [
    "for n_traj in range(1, N_TRAJECTORY + 1):\n",
    "\n",
    "    result = []\n",
    "    observation = env.reset()\n",
    "    action = policy.reset()\n",
    "\n",
    "    while env.t <= 1.0:\n",
    "        env.render()\n",
    "        observation, reward, done, info = env.step(action)\n",
    "\n",
    "    print(\"Ready to start run #{}\".format(n_traj))\n",
    "\n",
    "    for t_ in range(1, N_TIME + 1):\n",
    "        env.render()\n",
    "        obs = (\n",
    "            observation\n",
    "            if transform is None\n",
    "            else transform(observation.astype(np.uint8))\n",
    "        )\n",
    "        action = policy(obs)\n",
    "        if \"Tensor\" in str(type(action)):\n",
    "            action = action.cpu().data.numpy().flatten()\n",
    "        observation, reward, done, info = env.step(action)\n",
    "        result.append(reward)\n",
    "        if done:\n",
    "            break\n",
    "\n",
    "    # close everything\n",
    "    env.close()\n",
    "\n",
    "    # record trajectory and return at the end of trajectory\n",
    "    file_name = str(n_traj)\n",
    "    print(\"Finish run #{}\".format(file_name))\n",
    "    np.savetxt(\n",
    "        sdir + \"reward/\" + file_name + \".csv\", np.array([result]).T, delimiter=\",\"\n",
    "    )\n",
    "    rewards.append(np.sum(result))\n",
    "    print(\"Collected a reward of {}\".format(rewards[-1]))\n",
    "    summary.append([file_name, rewards[-1]])\n",
    "    pd.DataFrame(summary, columns=[\"test\", \"return\"]).to_csv(\n",
    "        sdir + \"reward/\" + \"summary.csv\", index=False\n",
    "    )"
   ]
  },
  {
   "cell_type": "markdown",
   "metadata": {},
   "source": [
    "### Imitator Statistics"
   ]
  },
  {
   "cell_type": "code",
   "execution_count": null,
   "metadata": {},
   "outputs": [],
   "source": [
    "print(\n",
    "    \"statistics of total reward:\\n\\t max: {}\\t min: {}\"\n",
    "    \"\\n\\t median: {}\\t mean: {}\\t std: {}\".format(\n",
    "        np.max(rewards),\n",
    "        np.min(rewards),\n",
    "        np.median(rewards),\n",
    "        np.mean(rewards),\n",
    "        np.std(rewards),\n",
    "    )\n",
    ")"
   ]
  }
 ],
 "metadata": {
  "kernelspec": {
   "display_name": "Python 3",
   "language": "python",
   "name": "python3"
  },
  "language_info": {
   "codemirror_mode": {
    "name": "ipython",
    "version": 3
   },
   "file_extension": ".py",
   "mimetype": "text/x-python",
   "name": "python",
   "nbconvert_exporter": "python",
   "pygments_lexer": "ipython3",
   "version": "3.8.8"
  }
 },
 "nbformat": 4,
 "nbformat_minor": 1
}
